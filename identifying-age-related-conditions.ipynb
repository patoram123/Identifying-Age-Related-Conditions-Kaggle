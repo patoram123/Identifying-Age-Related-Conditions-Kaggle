{
 "cells": [
  {
   "cell_type": "code",
   "execution_count": 1,
   "id": "66e4807d",
   "metadata": {
    "execution": {
     "iopub.execute_input": "2023-07-19T05:18:19.160486Z",
     "iopub.status.busy": "2023-07-19T05:18:19.159516Z",
     "iopub.status.idle": "2023-07-19T05:18:19.172812Z",
     "shell.execute_reply": "2023-07-19T05:18:19.171825Z"
    },
    "papermill": {
     "duration": 0.035746,
     "end_time": "2023-07-19T05:18:19.175631",
     "exception": false,
     "start_time": "2023-07-19T05:18:19.139885",
     "status": "completed"
    },
    "tags": []
   },
   "outputs": [],
   "source": [
    "import pandas as pd\n",
    "import numpy as np\n",
    "import matplotlib.pyplot as plt"
   ]
  },
  {
   "cell_type": "code",
   "execution_count": 2,
   "id": "364d64da",
   "metadata": {
    "execution": {
     "iopub.execute_input": "2023-07-19T05:18:19.213947Z",
     "iopub.status.busy": "2023-07-19T05:18:19.213357Z",
     "iopub.status.idle": "2023-07-19T05:18:19.222296Z",
     "shell.execute_reply": "2023-07-19T05:18:19.221315Z"
    },
    "papermill": {
     "duration": 0.032876,
     "end_time": "2023-07-19T05:18:19.225200",
     "exception": false,
     "start_time": "2023-07-19T05:18:19.192324",
     "status": "completed"
    },
    "tags": []
   },
   "outputs": [
    {
     "data": {
      "text/plain": [
       "['icr-identify-age-related-conditions']"
      ]
     },
     "execution_count": 2,
     "metadata": {},
     "output_type": "execute_result"
    }
   ],
   "source": [
    "import os\n",
    "os.listdir(\"/kaggle/input\")"
   ]
  },
  {
   "cell_type": "code",
   "execution_count": 3,
   "id": "b0aaee9e",
   "metadata": {
    "execution": {
     "iopub.execute_input": "2023-07-19T05:18:19.261046Z",
     "iopub.status.busy": "2023-07-19T05:18:19.259797Z",
     "iopub.status.idle": "2023-07-19T05:18:19.304147Z",
     "shell.execute_reply": "2023-07-19T05:18:19.302808Z"
    },
    "papermill": {
     "duration": 0.065173,
     "end_time": "2023-07-19T05:18:19.307075",
     "exception": false,
     "start_time": "2023-07-19T05:18:19.241902",
     "status": "completed"
    },
    "tags": []
   },
   "outputs": [],
   "source": [
    "df = pd.read_csv(\"/kaggle/input/icr-identify-age-related-conditions/train.csv\")"
   ]
  },
  {
   "cell_type": "code",
   "execution_count": 4,
   "id": "01a6729e",
   "metadata": {
    "execution": {
     "iopub.execute_input": "2023-07-19T05:18:19.345861Z",
     "iopub.status.busy": "2023-07-19T05:18:19.344561Z",
     "iopub.status.idle": "2023-07-19T05:18:19.410189Z",
     "shell.execute_reply": "2023-07-19T05:18:19.408211Z"
    },
    "papermill": {
     "duration": 0.087654,
     "end_time": "2023-07-19T05:18:19.413644",
     "exception": false,
     "start_time": "2023-07-19T05:18:19.325990",
     "status": "completed"
    },
    "tags": []
   },
   "outputs": [
    {
     "data": {
      "text/html": [
       "<div>\n",
       "<style scoped>\n",
       "    .dataframe tbody tr th:only-of-type {\n",
       "        vertical-align: middle;\n",
       "    }\n",
       "\n",
       "    .dataframe tbody tr th {\n",
       "        vertical-align: top;\n",
       "    }\n",
       "\n",
       "    .dataframe thead th {\n",
       "        text-align: right;\n",
       "    }\n",
       "</style>\n",
       "<table border=\"1\" class=\"dataframe\">\n",
       "  <thead>\n",
       "    <tr style=\"text-align: right;\">\n",
       "      <th></th>\n",
       "      <th>Id</th>\n",
       "      <th>AB</th>\n",
       "      <th>AF</th>\n",
       "      <th>AH</th>\n",
       "      <th>AM</th>\n",
       "      <th>AR</th>\n",
       "      <th>AX</th>\n",
       "      <th>AY</th>\n",
       "      <th>AZ</th>\n",
       "      <th>BC</th>\n",
       "      <th>...</th>\n",
       "      <th>FL</th>\n",
       "      <th>FR</th>\n",
       "      <th>FS</th>\n",
       "      <th>GB</th>\n",
       "      <th>GE</th>\n",
       "      <th>GF</th>\n",
       "      <th>GH</th>\n",
       "      <th>GI</th>\n",
       "      <th>GL</th>\n",
       "      <th>Class</th>\n",
       "    </tr>\n",
       "  </thead>\n",
       "  <tbody>\n",
       "    <tr>\n",
       "      <th>0</th>\n",
       "      <td>000ff2bfdfe9</td>\n",
       "      <td>0.209377</td>\n",
       "      <td>3109.03329</td>\n",
       "      <td>85.200147</td>\n",
       "      <td>22.394407</td>\n",
       "      <td>8.138688</td>\n",
       "      <td>0.699861</td>\n",
       "      <td>0.025578</td>\n",
       "      <td>9.812214</td>\n",
       "      <td>5.555634</td>\n",
       "      <td>...</td>\n",
       "      <td>7.298162</td>\n",
       "      <td>1.73855</td>\n",
       "      <td>0.094822</td>\n",
       "      <td>11.339138</td>\n",
       "      <td>72.611063</td>\n",
       "      <td>2003.810319</td>\n",
       "      <td>22.136229</td>\n",
       "      <td>69.834944</td>\n",
       "      <td>0.120343</td>\n",
       "      <td>1</td>\n",
       "    </tr>\n",
       "    <tr>\n",
       "      <th>1</th>\n",
       "      <td>007255e47698</td>\n",
       "      <td>0.145282</td>\n",
       "      <td>978.76416</td>\n",
       "      <td>85.200147</td>\n",
       "      <td>36.968889</td>\n",
       "      <td>8.138688</td>\n",
       "      <td>3.632190</td>\n",
       "      <td>0.025578</td>\n",
       "      <td>13.517790</td>\n",
       "      <td>1.229900</td>\n",
       "      <td>...</td>\n",
       "      <td>0.173229</td>\n",
       "      <td>0.49706</td>\n",
       "      <td>0.568932</td>\n",
       "      <td>9.292698</td>\n",
       "      <td>72.611063</td>\n",
       "      <td>27981.562750</td>\n",
       "      <td>29.135430</td>\n",
       "      <td>32.131996</td>\n",
       "      <td>21.978000</td>\n",
       "      <td>0</td>\n",
       "    </tr>\n",
       "    <tr>\n",
       "      <th>2</th>\n",
       "      <td>013f2bd269f5</td>\n",
       "      <td>0.470030</td>\n",
       "      <td>2635.10654</td>\n",
       "      <td>85.200147</td>\n",
       "      <td>32.360553</td>\n",
       "      <td>8.138688</td>\n",
       "      <td>6.732840</td>\n",
       "      <td>0.025578</td>\n",
       "      <td>12.824570</td>\n",
       "      <td>1.229900</td>\n",
       "      <td>...</td>\n",
       "      <td>7.709560</td>\n",
       "      <td>0.97556</td>\n",
       "      <td>1.198821</td>\n",
       "      <td>37.077772</td>\n",
       "      <td>88.609437</td>\n",
       "      <td>13676.957810</td>\n",
       "      <td>28.022851</td>\n",
       "      <td>35.192676</td>\n",
       "      <td>0.196941</td>\n",
       "      <td>0</td>\n",
       "    </tr>\n",
       "    <tr>\n",
       "      <th>3</th>\n",
       "      <td>043ac50845d5</td>\n",
       "      <td>0.252107</td>\n",
       "      <td>3819.65177</td>\n",
       "      <td>120.201618</td>\n",
       "      <td>77.112203</td>\n",
       "      <td>8.138688</td>\n",
       "      <td>3.685344</td>\n",
       "      <td>0.025578</td>\n",
       "      <td>11.053708</td>\n",
       "      <td>1.229900</td>\n",
       "      <td>...</td>\n",
       "      <td>6.122162</td>\n",
       "      <td>0.49706</td>\n",
       "      <td>0.284466</td>\n",
       "      <td>18.529584</td>\n",
       "      <td>82.416803</td>\n",
       "      <td>2094.262452</td>\n",
       "      <td>39.948656</td>\n",
       "      <td>90.493248</td>\n",
       "      <td>0.155829</td>\n",
       "      <td>0</td>\n",
       "    </tr>\n",
       "    <tr>\n",
       "      <th>4</th>\n",
       "      <td>044fb8a146ec</td>\n",
       "      <td>0.380297</td>\n",
       "      <td>3733.04844</td>\n",
       "      <td>85.200147</td>\n",
       "      <td>14.103738</td>\n",
       "      <td>8.138688</td>\n",
       "      <td>3.942255</td>\n",
       "      <td>0.054810</td>\n",
       "      <td>3.396778</td>\n",
       "      <td>102.151980</td>\n",
       "      <td>...</td>\n",
       "      <td>8.153058</td>\n",
       "      <td>48.50134</td>\n",
       "      <td>0.121914</td>\n",
       "      <td>16.408728</td>\n",
       "      <td>146.109943</td>\n",
       "      <td>8524.370502</td>\n",
       "      <td>45.381316</td>\n",
       "      <td>36.262628</td>\n",
       "      <td>0.096614</td>\n",
       "      <td>1</td>\n",
       "    </tr>\n",
       "  </tbody>\n",
       "</table>\n",
       "<p>5 rows × 58 columns</p>\n",
       "</div>"
      ],
      "text/plain": [
       "             Id        AB          AF          AH         AM        AR  \\\n",
       "0  000ff2bfdfe9  0.209377  3109.03329   85.200147  22.394407  8.138688   \n",
       "1  007255e47698  0.145282   978.76416   85.200147  36.968889  8.138688   \n",
       "2  013f2bd269f5  0.470030  2635.10654   85.200147  32.360553  8.138688   \n",
       "3  043ac50845d5  0.252107  3819.65177  120.201618  77.112203  8.138688   \n",
       "4  044fb8a146ec  0.380297  3733.04844   85.200147  14.103738  8.138688   \n",
       "\n",
       "         AX        AY         AZ          BC  ...        FL        FR  \\\n",
       "0  0.699861  0.025578   9.812214    5.555634  ...  7.298162   1.73855   \n",
       "1  3.632190  0.025578  13.517790    1.229900  ...  0.173229   0.49706   \n",
       "2  6.732840  0.025578  12.824570    1.229900  ...  7.709560   0.97556   \n",
       "3  3.685344  0.025578  11.053708    1.229900  ...  6.122162   0.49706   \n",
       "4  3.942255  0.054810   3.396778  102.151980  ...  8.153058  48.50134   \n",
       "\n",
       "         FS         GB          GE            GF         GH         GI  \\\n",
       "0  0.094822  11.339138   72.611063   2003.810319  22.136229  69.834944   \n",
       "1  0.568932   9.292698   72.611063  27981.562750  29.135430  32.131996   \n",
       "2  1.198821  37.077772   88.609437  13676.957810  28.022851  35.192676   \n",
       "3  0.284466  18.529584   82.416803   2094.262452  39.948656  90.493248   \n",
       "4  0.121914  16.408728  146.109943   8524.370502  45.381316  36.262628   \n",
       "\n",
       "          GL  Class  \n",
       "0   0.120343      1  \n",
       "1  21.978000      0  \n",
       "2   0.196941      0  \n",
       "3   0.155829      0  \n",
       "4   0.096614      1  \n",
       "\n",
       "[5 rows x 58 columns]"
      ]
     },
     "execution_count": 4,
     "metadata": {},
     "output_type": "execute_result"
    }
   ],
   "source": [
    "df.head()"
   ]
  },
  {
   "cell_type": "code",
   "execution_count": 5,
   "id": "d1b80ac4",
   "metadata": {
    "execution": {
     "iopub.execute_input": "2023-07-19T05:18:19.460947Z",
     "iopub.status.busy": "2023-07-19T05:18:19.460527Z",
     "iopub.status.idle": "2023-07-19T05:18:19.660258Z",
     "shell.execute_reply": "2023-07-19T05:18:19.658657Z"
    },
    "papermill": {
     "duration": 0.227912,
     "end_time": "2023-07-19T05:18:19.663253",
     "exception": false,
     "start_time": "2023-07-19T05:18:19.435341",
     "status": "completed"
    },
    "tags": []
   },
   "outputs": [
    {
     "data": {
      "text/html": [
       "<div>\n",
       "<style scoped>\n",
       "    .dataframe tbody tr th:only-of-type {\n",
       "        vertical-align: middle;\n",
       "    }\n",
       "\n",
       "    .dataframe tbody tr th {\n",
       "        vertical-align: top;\n",
       "    }\n",
       "\n",
       "    .dataframe thead th {\n",
       "        text-align: right;\n",
       "    }\n",
       "</style>\n",
       "<table border=\"1\" class=\"dataframe\">\n",
       "  <thead>\n",
       "    <tr style=\"text-align: right;\">\n",
       "      <th></th>\n",
       "      <th>AB</th>\n",
       "      <th>AF</th>\n",
       "      <th>AH</th>\n",
       "      <th>AM</th>\n",
       "      <th>AR</th>\n",
       "      <th>AX</th>\n",
       "      <th>AY</th>\n",
       "      <th>AZ</th>\n",
       "      <th>BC</th>\n",
       "      <th>BD</th>\n",
       "      <th>...</th>\n",
       "      <th>FL</th>\n",
       "      <th>FR</th>\n",
       "      <th>FS</th>\n",
       "      <th>GB</th>\n",
       "      <th>GE</th>\n",
       "      <th>GF</th>\n",
       "      <th>GH</th>\n",
       "      <th>GI</th>\n",
       "      <th>GL</th>\n",
       "      <th>Class</th>\n",
       "    </tr>\n",
       "  </thead>\n",
       "  <tbody>\n",
       "    <tr>\n",
       "      <th>count</th>\n",
       "      <td>617.000000</td>\n",
       "      <td>617.000000</td>\n",
       "      <td>617.000000</td>\n",
       "      <td>617.000000</td>\n",
       "      <td>617.000000</td>\n",
       "      <td>617.000000</td>\n",
       "      <td>617.000000</td>\n",
       "      <td>617.000000</td>\n",
       "      <td>617.000000</td>\n",
       "      <td>617.000000</td>\n",
       "      <td>...</td>\n",
       "      <td>616.000000</td>\n",
       "      <td>617.000000</td>\n",
       "      <td>615.000000</td>\n",
       "      <td>617.000000</td>\n",
       "      <td>617.000000</td>\n",
       "      <td>617.000000</td>\n",
       "      <td>617.000000</td>\n",
       "      <td>617.000000</td>\n",
       "      <td>616.000000</td>\n",
       "      <td>617.000000</td>\n",
       "    </tr>\n",
       "    <tr>\n",
       "      <th>mean</th>\n",
       "      <td>0.477149</td>\n",
       "      <td>3502.013221</td>\n",
       "      <td>118.624513</td>\n",
       "      <td>38.968552</td>\n",
       "      <td>10.128242</td>\n",
       "      <td>5.545576</td>\n",
       "      <td>0.060320</td>\n",
       "      <td>10.566447</td>\n",
       "      <td>8.053012</td>\n",
       "      <td>5350.388655</td>\n",
       "      <td>...</td>\n",
       "      <td>5.433199</td>\n",
       "      <td>3.533905</td>\n",
       "      <td>0.421501</td>\n",
       "      <td>20.724856</td>\n",
       "      <td>131.714987</td>\n",
       "      <td>14679.595398</td>\n",
       "      <td>31.489716</td>\n",
       "      <td>50.584437</td>\n",
       "      <td>8.530961</td>\n",
       "      <td>0.175041</td>\n",
       "    </tr>\n",
       "    <tr>\n",
       "      <th>std</th>\n",
       "      <td>0.468388</td>\n",
       "      <td>2300.322717</td>\n",
       "      <td>127.838950</td>\n",
       "      <td>69.728226</td>\n",
       "      <td>10.518877</td>\n",
       "      <td>2.551696</td>\n",
       "      <td>0.416817</td>\n",
       "      <td>4.350645</td>\n",
       "      <td>65.166943</td>\n",
       "      <td>3021.326641</td>\n",
       "      <td>...</td>\n",
       "      <td>11.496257</td>\n",
       "      <td>50.181948</td>\n",
       "      <td>1.305365</td>\n",
       "      <td>9.991907</td>\n",
       "      <td>144.181524</td>\n",
       "      <td>19352.959387</td>\n",
       "      <td>9.864239</td>\n",
       "      <td>36.266251</td>\n",
       "      <td>10.327010</td>\n",
       "      <td>0.380310</td>\n",
       "    </tr>\n",
       "    <tr>\n",
       "      <th>min</th>\n",
       "      <td>0.081187</td>\n",
       "      <td>192.593280</td>\n",
       "      <td>85.200147</td>\n",
       "      <td>3.177522</td>\n",
       "      <td>8.138688</td>\n",
       "      <td>0.699861</td>\n",
       "      <td>0.025578</td>\n",
       "      <td>3.396778</td>\n",
       "      <td>1.229900</td>\n",
       "      <td>1693.624320</td>\n",
       "      <td>...</td>\n",
       "      <td>0.173229</td>\n",
       "      <td>0.497060</td>\n",
       "      <td>0.067730</td>\n",
       "      <td>4.102182</td>\n",
       "      <td>72.611063</td>\n",
       "      <td>13.038894</td>\n",
       "      <td>9.432735</td>\n",
       "      <td>0.897628</td>\n",
       "      <td>0.001129</td>\n",
       "      <td>0.000000</td>\n",
       "    </tr>\n",
       "    <tr>\n",
       "      <th>25%</th>\n",
       "      <td>0.252107</td>\n",
       "      <td>2197.345480</td>\n",
       "      <td>85.200147</td>\n",
       "      <td>12.270314</td>\n",
       "      <td>8.138688</td>\n",
       "      <td>4.128294</td>\n",
       "      <td>0.025578</td>\n",
       "      <td>8.129580</td>\n",
       "      <td>1.229900</td>\n",
       "      <td>4155.702870</td>\n",
       "      <td>...</td>\n",
       "      <td>0.173229</td>\n",
       "      <td>0.497060</td>\n",
       "      <td>0.067730</td>\n",
       "      <td>14.036718</td>\n",
       "      <td>72.611063</td>\n",
       "      <td>2798.992584</td>\n",
       "      <td>25.034888</td>\n",
       "      <td>23.011684</td>\n",
       "      <td>0.124392</td>\n",
       "      <td>0.000000</td>\n",
       "    </tr>\n",
       "    <tr>\n",
       "      <th>50%</th>\n",
       "      <td>0.354659</td>\n",
       "      <td>3120.318960</td>\n",
       "      <td>85.200147</td>\n",
       "      <td>20.533110</td>\n",
       "      <td>8.138688</td>\n",
       "      <td>5.031912</td>\n",
       "      <td>0.025578</td>\n",
       "      <td>10.461320</td>\n",
       "      <td>1.229900</td>\n",
       "      <td>4997.960730</td>\n",
       "      <td>...</td>\n",
       "      <td>3.028141</td>\n",
       "      <td>1.131000</td>\n",
       "      <td>0.250601</td>\n",
       "      <td>18.771436</td>\n",
       "      <td>72.611063</td>\n",
       "      <td>7838.273610</td>\n",
       "      <td>30.608946</td>\n",
       "      <td>41.007968</td>\n",
       "      <td>0.337827</td>\n",
       "      <td>0.000000</td>\n",
       "    </tr>\n",
       "    <tr>\n",
       "      <th>75%</th>\n",
       "      <td>0.559763</td>\n",
       "      <td>4361.637390</td>\n",
       "      <td>113.739540</td>\n",
       "      <td>39.139886</td>\n",
       "      <td>8.138688</td>\n",
       "      <td>6.431634</td>\n",
       "      <td>0.036845</td>\n",
       "      <td>12.969516</td>\n",
       "      <td>5.081244</td>\n",
       "      <td>6035.885700</td>\n",
       "      <td>...</td>\n",
       "      <td>6.238814</td>\n",
       "      <td>1.512060</td>\n",
       "      <td>0.535067</td>\n",
       "      <td>25.608406</td>\n",
       "      <td>127.591671</td>\n",
       "      <td>19035.709240</td>\n",
       "      <td>36.863947</td>\n",
       "      <td>67.931664</td>\n",
       "      <td>21.978000</td>\n",
       "      <td>0.000000</td>\n",
       "    </tr>\n",
       "    <tr>\n",
       "      <th>max</th>\n",
       "      <td>6.161666</td>\n",
       "      <td>28688.187660</td>\n",
       "      <td>1910.123198</td>\n",
       "      <td>630.518230</td>\n",
       "      <td>178.943634</td>\n",
       "      <td>38.270880</td>\n",
       "      <td>10.315851</td>\n",
       "      <td>38.971568</td>\n",
       "      <td>1463.693448</td>\n",
       "      <td>53060.599240</td>\n",
       "      <td>...</td>\n",
       "      <td>137.932739</td>\n",
       "      <td>1244.227020</td>\n",
       "      <td>31.365763</td>\n",
       "      <td>135.781294</td>\n",
       "      <td>1497.351958</td>\n",
       "      <td>143790.071200</td>\n",
       "      <td>81.210825</td>\n",
       "      <td>191.194764</td>\n",
       "      <td>21.978000</td>\n",
       "      <td>1.000000</td>\n",
       "    </tr>\n",
       "  </tbody>\n",
       "</table>\n",
       "<p>8 rows × 56 columns</p>\n",
       "</div>"
      ],
      "text/plain": [
       "               AB            AF           AH          AM          AR  \\\n",
       "count  617.000000    617.000000   617.000000  617.000000  617.000000   \n",
       "mean     0.477149   3502.013221   118.624513   38.968552   10.128242   \n",
       "std      0.468388   2300.322717   127.838950   69.728226   10.518877   \n",
       "min      0.081187    192.593280    85.200147    3.177522    8.138688   \n",
       "25%      0.252107   2197.345480    85.200147   12.270314    8.138688   \n",
       "50%      0.354659   3120.318960    85.200147   20.533110    8.138688   \n",
       "75%      0.559763   4361.637390   113.739540   39.139886    8.138688   \n",
       "max      6.161666  28688.187660  1910.123198  630.518230  178.943634   \n",
       "\n",
       "               AX          AY          AZ           BC           BD   ...  \\\n",
       "count  617.000000  617.000000  617.000000   617.000000    617.000000  ...   \n",
       "mean     5.545576    0.060320   10.566447     8.053012   5350.388655  ...   \n",
       "std      2.551696    0.416817    4.350645    65.166943   3021.326641  ...   \n",
       "min      0.699861    0.025578    3.396778     1.229900   1693.624320  ...   \n",
       "25%      4.128294    0.025578    8.129580     1.229900   4155.702870  ...   \n",
       "50%      5.031912    0.025578   10.461320     1.229900   4997.960730  ...   \n",
       "75%      6.431634    0.036845   12.969516     5.081244   6035.885700  ...   \n",
       "max     38.270880   10.315851   38.971568  1463.693448  53060.599240  ...   \n",
       "\n",
       "               FL           FR          FS          GB           GE  \\\n",
       "count  616.000000   617.000000  615.000000  617.000000   617.000000   \n",
       "mean     5.433199     3.533905    0.421501   20.724856   131.714987   \n",
       "std     11.496257    50.181948    1.305365    9.991907   144.181524   \n",
       "min      0.173229     0.497060    0.067730    4.102182    72.611063   \n",
       "25%      0.173229     0.497060    0.067730   14.036718    72.611063   \n",
       "50%      3.028141     1.131000    0.250601   18.771436    72.611063   \n",
       "75%      6.238814     1.512060    0.535067   25.608406   127.591671   \n",
       "max    137.932739  1244.227020   31.365763  135.781294  1497.351958   \n",
       "\n",
       "                  GF          GH          GI          GL       Class  \n",
       "count     617.000000  617.000000  617.000000  616.000000  617.000000  \n",
       "mean    14679.595398   31.489716   50.584437    8.530961    0.175041  \n",
       "std     19352.959387    9.864239   36.266251   10.327010    0.380310  \n",
       "min        13.038894    9.432735    0.897628    0.001129    0.000000  \n",
       "25%      2798.992584   25.034888   23.011684    0.124392    0.000000  \n",
       "50%      7838.273610   30.608946   41.007968    0.337827    0.000000  \n",
       "75%     19035.709240   36.863947   67.931664   21.978000    0.000000  \n",
       "max    143790.071200   81.210825  191.194764   21.978000    1.000000  \n",
       "\n",
       "[8 rows x 56 columns]"
      ]
     },
     "execution_count": 5,
     "metadata": {},
     "output_type": "execute_result"
    }
   ],
   "source": [
    "df.describe()"
   ]
  },
  {
   "cell_type": "code",
   "execution_count": 6,
   "id": "875dbdbd",
   "metadata": {
    "execution": {
     "iopub.execute_input": "2023-07-19T05:18:19.705619Z",
     "iopub.status.busy": "2023-07-19T05:18:19.705196Z",
     "iopub.status.idle": "2023-07-19T05:18:19.740257Z",
     "shell.execute_reply": "2023-07-19T05:18:19.738698Z"
    },
    "papermill": {
     "duration": 0.059997,
     "end_time": "2023-07-19T05:18:19.743359",
     "exception": false,
     "start_time": "2023-07-19T05:18:19.683362",
     "status": "completed"
    },
    "tags": []
   },
   "outputs": [
    {
     "name": "stdout",
     "output_type": "stream",
     "text": [
      "<class 'pandas.core.frame.DataFrame'>\n",
      "RangeIndex: 617 entries, 0 to 616\n",
      "Data columns (total 58 columns):\n",
      " #   Column  Non-Null Count  Dtype  \n",
      "---  ------  --------------  -----  \n",
      " 0   Id      617 non-null    object \n",
      " 1   AB      617 non-null    float64\n",
      " 2   AF      617 non-null    float64\n",
      " 3   AH      617 non-null    float64\n",
      " 4   AM      617 non-null    float64\n",
      " 5   AR      617 non-null    float64\n",
      " 6   AX      617 non-null    float64\n",
      " 7   AY      617 non-null    float64\n",
      " 8   AZ      617 non-null    float64\n",
      " 9   BC      617 non-null    float64\n",
      " 10  BD      617 non-null    float64\n",
      " 11  BN      617 non-null    float64\n",
      " 12  BP      617 non-null    float64\n",
      " 13  BQ      557 non-null    float64\n",
      " 14  BR      617 non-null    float64\n",
      " 15  BZ      617 non-null    float64\n",
      " 16  CB      615 non-null    float64\n",
      " 17  CC      614 non-null    float64\n",
      " 18  CD      617 non-null    float64\n",
      " 19  CF      617 non-null    float64\n",
      " 20  CH      617 non-null    float64\n",
      " 21  CL      617 non-null    float64\n",
      " 22  CR      617 non-null    float64\n",
      " 23  CS      617 non-null    float64\n",
      " 24  CU      617 non-null    float64\n",
      " 25  CW      617 non-null    float64\n",
      " 26  DA      617 non-null    float64\n",
      " 27  DE      617 non-null    float64\n",
      " 28  DF      617 non-null    float64\n",
      " 29  DH      617 non-null    float64\n",
      " 30  DI      617 non-null    float64\n",
      " 31  DL      617 non-null    float64\n",
      " 32  DN      617 non-null    float64\n",
      " 33  DU      616 non-null    float64\n",
      " 34  DV      617 non-null    float64\n",
      " 35  DY      617 non-null    float64\n",
      " 36  EB      617 non-null    float64\n",
      " 37  EE      617 non-null    float64\n",
      " 38  EG      617 non-null    float64\n",
      " 39  EH      617 non-null    float64\n",
      " 40  EJ      617 non-null    object \n",
      " 41  EL      557 non-null    float64\n",
      " 42  EP      617 non-null    float64\n",
      " 43  EU      617 non-null    float64\n",
      " 44  FC      616 non-null    float64\n",
      " 45  FD      617 non-null    float64\n",
      " 46  FE      617 non-null    float64\n",
      " 47  FI      617 non-null    float64\n",
      " 48  FL      616 non-null    float64\n",
      " 49  FR      617 non-null    float64\n",
      " 50  FS      615 non-null    float64\n",
      " 51  GB      617 non-null    float64\n",
      " 52  GE      617 non-null    float64\n",
      " 53  GF      617 non-null    float64\n",
      " 54  GH      617 non-null    float64\n",
      " 55  GI      617 non-null    float64\n",
      " 56  GL      616 non-null    float64\n",
      " 57  Class   617 non-null    int64  \n",
      "dtypes: float64(55), int64(1), object(2)\n",
      "memory usage: 279.7+ KB\n"
     ]
    }
   ],
   "source": [
    "df.info()"
   ]
  },
  {
   "cell_type": "code",
   "execution_count": 7,
   "id": "01913b68",
   "metadata": {
    "execution": {
     "iopub.execute_input": "2023-07-19T05:18:19.782198Z",
     "iopub.status.busy": "2023-07-19T05:18:19.781785Z",
     "iopub.status.idle": "2023-07-19T05:18:19.792411Z",
     "shell.execute_reply": "2023-07-19T05:18:19.790664Z"
    },
    "papermill": {
     "duration": 0.033368,
     "end_time": "2023-07-19T05:18:19.795442",
     "exception": false,
     "start_time": "2023-07-19T05:18:19.762074",
     "status": "completed"
    },
    "tags": []
   },
   "outputs": [
    {
     "data": {
      "text/plain": [
       "B    395\n",
       "A    222\n",
       "Name: EJ, dtype: int64"
      ]
     },
     "execution_count": 7,
     "metadata": {},
     "output_type": "execute_result"
    }
   ],
   "source": [
    "df['EJ'].value_counts()"
   ]
  },
  {
   "cell_type": "code",
   "execution_count": 8,
   "id": "7b2debb5",
   "metadata": {
    "execution": {
     "iopub.execute_input": "2023-07-19T05:18:19.836797Z",
     "iopub.status.busy": "2023-07-19T05:18:19.836352Z",
     "iopub.status.idle": "2023-07-19T05:18:19.848330Z",
     "shell.execute_reply": "2023-07-19T05:18:19.846676Z"
    },
    "papermill": {
     "duration": 0.036321,
     "end_time": "2023-07-19T05:18:19.851219",
     "exception": false,
     "start_time": "2023-07-19T05:18:19.814898",
     "status": "completed"
    },
    "tags": []
   },
   "outputs": [],
   "source": [
    "def full_pipeline(df, numeric_columns=None, categorical_columns=None, date_column=None,\n",
    "                          columns_to_upper=None, columns_to_lower=None):\n",
    "\n",
    "            if date_column is not None:\n",
    "                df[date_column] = pd.to_datetime(df[date_column])\n",
    "\n",
    "            if numeric_columns is not None:\n",
    "                for column in numeric_columns:\n",
    "                    df[column].fillna(df[column].mean(), inplace=True)\n",
    "                    \n",
    "            if categorical_columns is not None:\n",
    "                df = pd.get_dummies(df, columns=categorical_columns)\n",
    "\n",
    "            if columns_to_upper is not None:\n",
    "                for column in columns_to_upper:\n",
    "                    df[column] = df[column].str.upper()\n",
    "\n",
    "            if columns_to_lower is not None:\n",
    "                for column in columns_to_lower:\n",
    "                    df[column] = df[column].str.lower()\n",
    "\n",
    "            #df_scaled = (df_encoded - df_encoded.min()) / (df_encoded.max() - df_encoded.min())\n",
    "\n",
    "            return df"
   ]
  },
  {
   "cell_type": "code",
   "execution_count": 9,
   "id": "2a39b333",
   "metadata": {
    "execution": {
     "iopub.execute_input": "2023-07-19T05:18:19.888453Z",
     "iopub.status.busy": "2023-07-19T05:18:19.888068Z",
     "iopub.status.idle": "2023-07-19T05:18:19.896212Z",
     "shell.execute_reply": "2023-07-19T05:18:19.894297Z"
    },
    "papermill": {
     "duration": 0.030017,
     "end_time": "2023-07-19T05:18:19.899002",
     "exception": false,
     "start_time": "2023-07-19T05:18:19.868985",
     "status": "completed"
    },
    "tags": []
   },
   "outputs": [
    {
     "data": {
      "text/plain": [
       "Index(['Id', 'AB', 'AF', 'AH', 'AM', 'AR', 'AX', 'AY', 'AZ', 'BC', 'BD ', 'BN',\n",
       "       'BP', 'BQ', 'BR', 'BZ', 'CB', 'CC', 'CD ', 'CF', 'CH', 'CL', 'CR', 'CS',\n",
       "       'CU', 'CW ', 'DA', 'DE', 'DF', 'DH', 'DI', 'DL', 'DN', 'DU', 'DV', 'DY',\n",
       "       'EB', 'EE', 'EG', 'EH', 'EJ', 'EL', 'EP', 'EU', 'FC', 'FD ', 'FE', 'FI',\n",
       "       'FL', 'FR', 'FS', 'GB', 'GE', 'GF', 'GH', 'GI', 'GL', 'Class'],\n",
       "      dtype='object')"
      ]
     },
     "execution_count": 9,
     "metadata": {},
     "output_type": "execute_result"
    }
   ],
   "source": [
    "df.columns"
   ]
  },
  {
   "cell_type": "code",
   "execution_count": 10,
   "id": "e2e3b269",
   "metadata": {
    "execution": {
     "iopub.execute_input": "2023-07-19T05:18:19.938581Z",
     "iopub.status.busy": "2023-07-19T05:18:19.938188Z",
     "iopub.status.idle": "2023-07-19T05:18:19.973608Z",
     "shell.execute_reply": "2023-07-19T05:18:19.972249Z"
    },
    "papermill": {
     "duration": 0.05938,
     "end_time": "2023-07-19T05:18:19.976811",
     "exception": false,
     "start_time": "2023-07-19T05:18:19.917431",
     "status": "completed"
    },
    "tags": []
   },
   "outputs": [],
   "source": [
    "numeric_columns = ['AB', 'AF', 'AH', 'AM', 'AR', 'AX', 'AY', 'AZ', 'BC', 'BD ', 'BN',\n",
    "       'BP', 'BQ', 'BR', 'BZ', 'CB', 'CC', 'CD ', 'CF', 'CH', 'CL', 'CR', 'CS',\n",
    "       'CU', 'CW ', 'DA', 'DE', 'DF', 'DH', 'DI', 'DL', 'DN', 'DU', 'DV', 'DY',\n",
    "       'EB', 'EE', 'EG', 'EH', 'EL', 'EP', 'EU', 'FC', 'FD ', 'FE', 'FI',\n",
    "       'FL', 'FR', 'FS', 'GB', 'GE', 'GF', 'GH', 'GI', 'GL']\n",
    "categorical_columns = ['EJ']\n",
    "\n",
    "df = full_pipeline(df, numeric_columns, categorical_columns, date_column=None,\n",
    "                          columns_to_upper=None, columns_to_lower=None)"
   ]
  },
  {
   "cell_type": "code",
   "execution_count": 11,
   "id": "0937b13a",
   "metadata": {
    "execution": {
     "iopub.execute_input": "2023-07-19T05:18:20.018800Z",
     "iopub.status.busy": "2023-07-19T05:18:20.017975Z",
     "iopub.status.idle": "2023-07-19T05:18:20.038194Z",
     "shell.execute_reply": "2023-07-19T05:18:20.036859Z"
    },
    "papermill": {
     "duration": 0.045197,
     "end_time": "2023-07-19T05:18:20.041589",
     "exception": false,
     "start_time": "2023-07-19T05:18:19.996392",
     "status": "completed"
    },
    "tags": []
   },
   "outputs": [
    {
     "name": "stdout",
     "output_type": "stream",
     "text": [
      "<class 'pandas.core.frame.DataFrame'>\n",
      "RangeIndex: 617 entries, 0 to 616\n",
      "Data columns (total 59 columns):\n",
      " #   Column  Non-Null Count  Dtype  \n",
      "---  ------  --------------  -----  \n",
      " 0   Id      617 non-null    object \n",
      " 1   AB      617 non-null    float64\n",
      " 2   AF      617 non-null    float64\n",
      " 3   AH      617 non-null    float64\n",
      " 4   AM      617 non-null    float64\n",
      " 5   AR      617 non-null    float64\n",
      " 6   AX      617 non-null    float64\n",
      " 7   AY      617 non-null    float64\n",
      " 8   AZ      617 non-null    float64\n",
      " 9   BC      617 non-null    float64\n",
      " 10  BD      617 non-null    float64\n",
      " 11  BN      617 non-null    float64\n",
      " 12  BP      617 non-null    float64\n",
      " 13  BQ      617 non-null    float64\n",
      " 14  BR      617 non-null    float64\n",
      " 15  BZ      617 non-null    float64\n",
      " 16  CB      617 non-null    float64\n",
      " 17  CC      617 non-null    float64\n",
      " 18  CD      617 non-null    float64\n",
      " 19  CF      617 non-null    float64\n",
      " 20  CH      617 non-null    float64\n",
      " 21  CL      617 non-null    float64\n",
      " 22  CR      617 non-null    float64\n",
      " 23  CS      617 non-null    float64\n",
      " 24  CU      617 non-null    float64\n",
      " 25  CW      617 non-null    float64\n",
      " 26  DA      617 non-null    float64\n",
      " 27  DE      617 non-null    float64\n",
      " 28  DF      617 non-null    float64\n",
      " 29  DH      617 non-null    float64\n",
      " 30  DI      617 non-null    float64\n",
      " 31  DL      617 non-null    float64\n",
      " 32  DN      617 non-null    float64\n",
      " 33  DU      617 non-null    float64\n",
      " 34  DV      617 non-null    float64\n",
      " 35  DY      617 non-null    float64\n",
      " 36  EB      617 non-null    float64\n",
      " 37  EE      617 non-null    float64\n",
      " 38  EG      617 non-null    float64\n",
      " 39  EH      617 non-null    float64\n",
      " 40  EL      617 non-null    float64\n",
      " 41  EP      617 non-null    float64\n",
      " 42  EU      617 non-null    float64\n",
      " 43  FC      617 non-null    float64\n",
      " 44  FD      617 non-null    float64\n",
      " 45  FE      617 non-null    float64\n",
      " 46  FI      617 non-null    float64\n",
      " 47  FL      617 non-null    float64\n",
      " 48  FR      617 non-null    float64\n",
      " 49  FS      617 non-null    float64\n",
      " 50  GB      617 non-null    float64\n",
      " 51  GE      617 non-null    float64\n",
      " 52  GF      617 non-null    float64\n",
      " 53  GH      617 non-null    float64\n",
      " 54  GI      617 non-null    float64\n",
      " 55  GL      617 non-null    float64\n",
      " 56  Class   617 non-null    int64  \n",
      " 57  EJ_A    617 non-null    uint8  \n",
      " 58  EJ_B    617 non-null    uint8  \n",
      "dtypes: float64(55), int64(1), object(1), uint8(2)\n",
      "memory usage: 276.1+ KB\n"
     ]
    }
   ],
   "source": [
    "df.info()"
   ]
  },
  {
   "cell_type": "code",
   "execution_count": 12,
   "id": "60315e37",
   "metadata": {
    "execution": {
     "iopub.execute_input": "2023-07-19T05:18:20.082474Z",
     "iopub.status.busy": "2023-07-19T05:18:20.080549Z",
     "iopub.status.idle": "2023-07-19T05:18:20.092322Z",
     "shell.execute_reply": "2023-07-19T05:18:20.090531Z"
    },
    "papermill": {
     "duration": 0.035555,
     "end_time": "2023-07-19T05:18:20.095433",
     "exception": false,
     "start_time": "2023-07-19T05:18:20.059878",
     "status": "completed"
    },
    "tags": []
   },
   "outputs": [],
   "source": [
    "df_numeric = df[['AB', 'AF', 'AH', 'AM', 'AR', 'AX', 'AY', 'AZ', 'BC', 'BD ', 'BN',\n",
    "       'BP', 'BQ', 'BR', 'BZ', 'CB', 'CC', 'CD ', 'CF', 'CH', 'CL', 'CR', 'CS',\n",
    "       'CU', 'CW ', 'DA', 'DE', 'DF', 'DH', 'DI', 'DL', 'DN', 'DU', 'DV', 'DY',\n",
    "       'EB', 'EE', 'EG', 'EH', 'EL', 'EP', 'EU', 'FC', 'FD ', 'FE', 'FI',\n",
    "       'FL', 'FR', 'FS', 'GB', 'GE', 'GF', 'GH', 'GI', 'GL']]"
   ]
  },
  {
   "cell_type": "code",
   "execution_count": 13,
   "id": "6929a0f8",
   "metadata": {
    "execution": {
     "iopub.execute_input": "2023-07-19T05:18:20.136311Z",
     "iopub.status.busy": "2023-07-19T05:18:20.135860Z",
     "iopub.status.idle": "2023-07-19T05:18:20.365269Z",
     "shell.execute_reply": "2023-07-19T05:18:20.362096Z"
    },
    "papermill": {
     "duration": 0.257785,
     "end_time": "2023-07-19T05:18:20.373127",
     "exception": false,
     "start_time": "2023-07-19T05:18:20.115342",
     "status": "completed"
    },
    "tags": []
   },
   "outputs": [
    {
     "data": {
      "text/plain": [
       "<Axes: ylabel='Class'>"
      ]
     },
     "execution_count": 13,
     "metadata": {},
     "output_type": "execute_result"
    },
    {
     "data": {
      "image/png": "[encoded data removed]",
      "text/plain": [
       "<Figure size 640x480 with 1 Axes>"
      ]
     },
     "metadata": {},
     "output_type": "display_data"
    }
   ],
   "source": [
    "plot_df = df.Class.value_counts()\n",
    "plot_df.plot(kind=\"pie\")"
   ]
  },
  {
   "cell_type": "code",
   "execution_count": 14,
   "id": "d7e0c1e6",
   "metadata": {
    "execution": {
     "iopub.execute_input": "2023-07-19T05:18:20.438383Z",
     "iopub.status.busy": "2023-07-19T05:18:20.437918Z",
     "iopub.status.idle": "2023-07-19T05:18:22.944151Z",
     "shell.execute_reply": "2023-07-19T05:18:22.942821Z"
    },
    "papermill": {
     "duration": 2.532354,
     "end_time": "2023-07-19T05:18:22.946914",
     "exception": false,
     "start_time": "2023-07-19T05:18:20.414560",
     "status": "completed"
    },
    "tags": []
   },
   "outputs": [
    {
     "name": "stderr",
     "output_type": "stream",
     "text": [
      "/opt/conda/lib/python3.10/site-packages/scipy/__init__.py:146: UserWarning: A NumPy version >=1.16.5 and <1.23.0 is required for this version of SciPy (detected version 1.23.5\n",
      "  warnings.warn(f\"A NumPy version >={np_minversion} and <{np_maxversion}\"\n",
      "/tmp/ipykernel_20/1911544441.py:3: FutureWarning: The default value of numeric_only in DataFrame.corr is deprecated. In a future version, it will default to False. Select only valid columns or specify the value of numeric_only to silence this warning.\n",
      "  sns.heatmap(df.corr())\n"
     ]
    },
    {
     "data": {
      "text/plain": [
       "<Axes: >"
      ]
     },
     "execution_count": 14,
     "metadata": {},
     "output_type": "execute_result"
    },
    {
     "data": {
      "image/png": "[encoded data removed]",
      "text/plain": [
       "<Figure size 640x480 with 2 Axes>"
      ]
     },
     "metadata": {},
     "output_type": "display_data"
    }
   ],
   "source": [
    "import seaborn as sns\n",
    "\n",
    "sns.heatmap(df.corr())"
   ]
  },
  {
   "cell_type": "code",
   "execution_count": 15,
   "id": "583d2021",
   "metadata": {
    "execution": {
     "iopub.execute_input": "2023-07-19T05:18:22.992598Z",
     "iopub.status.busy": "2023-07-19T05:18:22.991942Z",
     "iopub.status.idle": "2023-07-19T05:18:23.287601Z",
     "shell.execute_reply": "2023-07-19T05:18:23.286076Z"
    },
    "papermill": {
     "duration": 0.320382,
     "end_time": "2023-07-19T05:18:23.290871",
     "exception": false,
     "start_time": "2023-07-19T05:18:22.970489",
     "status": "completed"
    },
    "tags": []
   },
   "outputs": [],
   "source": [
    "from sklearn.pipeline import Pipeline\n",
    "from sklearn.compose import ColumnTransformer\n",
    "from sklearn.preprocessing import StandardScaler\n",
    "\n",
    "remaining_columns = list(df.columns.drop(numeric_columns))\n",
    "\n",
    "\n",
    "numeric_transformer = Pipeline([\n",
    "    ('scaler', StandardScaler())\n",
    "])\n",
    "\n",
    "# Create the column transformer to apply different transformations to different columns\n",
    "preprocessor = ColumnTransformer([\n",
    "    ('numeric', numeric_transformer, numeric_columns)\n",
    "], remainder='passthrough')  # Include remaining columns as-is)\n",
    "\n",
    "transformed_data = preprocessor.fit_transform(df)\n",
    "\n",
    "numeric_column_names = preprocessor.transformers_[0][2]\n",
    "\n",
    "# Create a new DataFrame with the transformed columns and the remaining columns from the original DataFrame\n",
    "new_columns = list(numeric_column_names) + remaining_columns\n",
    "df_transformed = pd.DataFrame(transformed_data, columns=new_columns)"
   ]
  },
  {
   "cell_type": "code",
   "execution_count": 16,
   "id": "a302fd18",
   "metadata": {
    "execution": {
     "iopub.execute_input": "2023-07-19T05:18:23.332903Z",
     "iopub.status.busy": "2023-07-19T05:18:23.332442Z",
     "iopub.status.idle": "2023-07-19T05:18:23.366468Z",
     "shell.execute_reply": "2023-07-19T05:18:23.364505Z"
    },
    "papermill": {
     "duration": 0.059267,
     "end_time": "2023-07-19T05:18:23.370205",
     "exception": false,
     "start_time": "2023-07-19T05:18:23.310938",
     "status": "completed"
    },
    "tags": []
   },
   "outputs": [
    {
     "data": {
      "text/html": [
       "<div>\n",
       "<style scoped>\n",
       "    .dataframe tbody tr th:only-of-type {\n",
       "        vertical-align: middle;\n",
       "    }\n",
       "\n",
       "    .dataframe tbody tr th {\n",
       "        vertical-align: top;\n",
       "    }\n",
       "\n",
       "    .dataframe thead th {\n",
       "        text-align: right;\n",
       "    }\n",
       "</style>\n",
       "<table border=\"1\" class=\"dataframe\">\n",
       "  <thead>\n",
       "    <tr style=\"text-align: right;\">\n",
       "      <th></th>\n",
       "      <th>AB</th>\n",
       "      <th>AF</th>\n",
       "      <th>AH</th>\n",
       "      <th>AM</th>\n",
       "      <th>AR</th>\n",
       "      <th>AX</th>\n",
       "      <th>AY</th>\n",
       "      <th>AZ</th>\n",
       "      <th>BC</th>\n",
       "      <th>BD</th>\n",
       "      <th>...</th>\n",
       "      <th>GB</th>\n",
       "      <th>GE</th>\n",
       "      <th>GF</th>\n",
       "      <th>GH</th>\n",
       "      <th>GI</th>\n",
       "      <th>GL</th>\n",
       "      <th>Id</th>\n",
       "      <th>Class</th>\n",
       "      <th>EJ_A</th>\n",
       "      <th>EJ_B</th>\n",
       "    </tr>\n",
       "  </thead>\n",
       "  <tbody>\n",
       "    <tr>\n",
       "      <th>0</th>\n",
       "      <td>-0.572153</td>\n",
       "      <td>-0.170975</td>\n",
       "      <td>-0.261669</td>\n",
       "      <td>-0.237889</td>\n",
       "      <td>-0.189295</td>\n",
       "      <td>-1.900558</td>\n",
       "      <td>-0.083417</td>\n",
       "      <td>-0.173502</td>\n",
       "      <td>-0.038354</td>\n",
       "      <td>-0.405383</td>\n",
       "      <td>...</td>\n",
       "      <td>-0.940094</td>\n",
       "      <td>-0.41026</td>\n",
       "      <td>-0.655511</td>\n",
       "      <td>-0.948991</td>\n",
       "      <td>0.531241</td>\n",
       "      <td>-0.815752</td>\n",
       "      <td>000ff2bfdfe9</td>\n",
       "      <td>1</td>\n",
       "      <td>0</td>\n",
       "      <td>1</td>\n",
       "    </tr>\n",
       "    <tr>\n",
       "      <th>1</th>\n",
       "      <td>-0.709105</td>\n",
       "      <td>-1.097801</td>\n",
       "      <td>-0.261669</td>\n",
       "      <td>-0.028701</td>\n",
       "      <td>-0.189295</td>\n",
       "      <td>-0.750457</td>\n",
       "      <td>-0.083417</td>\n",
       "      <td>0.678919</td>\n",
       "      <td>-0.104787</td>\n",
       "      <td>0.048541</td>\n",
       "      <td>...</td>\n",
       "      <td>-1.14507</td>\n",
       "      <td>-0.41026</td>\n",
       "      <td>0.687893</td>\n",
       "      <td>-0.238862</td>\n",
       "      <td>-0.509218</td>\n",
       "      <td>1.304239</td>\n",
       "      <td>007255e47698</td>\n",
       "      <td>0</td>\n",
       "      <td>1</td>\n",
       "      <td>0</td>\n",
       "    </tr>\n",
       "    <tr>\n",
       "      <th>2</th>\n",
       "      <td>-0.015212</td>\n",
       "      <td>-0.377169</td>\n",
       "      <td>-0.261669</td>\n",
       "      <td>-0.094845</td>\n",
       "      <td>-0.189295</td>\n",
       "      <td>0.465662</td>\n",
       "      <td>-0.083417</td>\n",
       "      <td>0.519453</td>\n",
       "      <td>-0.104787</td>\n",
       "      <td>-0.071089</td>\n",
       "      <td>...</td>\n",
       "      <td>1.637944</td>\n",
       "      <td>-0.29921</td>\n",
       "      <td>-0.05185</td>\n",
       "      <td>-0.351743</td>\n",
       "      <td>-0.424754</td>\n",
       "      <td>-0.808323</td>\n",
       "      <td>013f2bd269f5</td>\n",
       "      <td>0</td>\n",
       "      <td>0</td>\n",
       "      <td>1</td>\n",
       "    </tr>\n",
       "    <tr>\n",
       "      <th>3</th>\n",
       "      <td>-0.480851</td>\n",
       "      <td>0.138196</td>\n",
       "      <td>0.012347</td>\n",
       "      <td>0.547477</td>\n",
       "      <td>-0.189295</td>\n",
       "      <td>-0.72961</td>\n",
       "      <td>-0.083417</td>\n",
       "      <td>0.112088</td>\n",
       "      <td>-0.104787</td>\n",
       "      <td>-0.391109</td>\n",
       "      <td>...</td>\n",
       "      <td>-0.219883</td>\n",
       "      <td>-0.342195</td>\n",
       "      <td>-0.650833</td>\n",
       "      <td>0.858232</td>\n",
       "      <td>1.101332</td>\n",
       "      <td>-0.812311</td>\n",
       "      <td>043ac50845d5</td>\n",
       "      <td>0</td>\n",
       "      <td>0</td>\n",
       "      <td>1</td>\n",
       "    </tr>\n",
       "    <tr>\n",
       "      <th>4</th>\n",
       "      <td>-0.206946</td>\n",
       "      <td>0.100517</td>\n",
       "      <td>-0.261669</td>\n",
       "      <td>-0.356885</td>\n",
       "      <td>-0.189295</td>\n",
       "      <td>-0.628845</td>\n",
       "      <td>-0.013229</td>\n",
       "      <td>-1.649292</td>\n",
       "      <td>1.445139</td>\n",
       "      <td>0.125327</td>\n",
       "      <td>...</td>\n",
       "      <td>-0.432313</td>\n",
       "      <td>0.09992</td>\n",
       "      <td>-0.318309</td>\n",
       "      <td>1.409422</td>\n",
       "      <td>-0.395228</td>\n",
       "      <td>-0.818054</td>\n",
       "      <td>044fb8a146ec</td>\n",
       "      <td>1</td>\n",
       "      <td>0</td>\n",
       "      <td>1</td>\n",
       "    </tr>\n",
       "    <tr>\n",
       "      <th>...</th>\n",
       "      <td>...</td>\n",
       "      <td>...</td>\n",
       "      <td>...</td>\n",
       "      <td>...</td>\n",
       "      <td>...</td>\n",
       "      <td>...</td>\n",
       "      <td>...</td>\n",
       "      <td>...</td>\n",
       "      <td>...</td>\n",
       "      <td>...</td>\n",
       "      <td>...</td>\n",
       "      <td>...</td>\n",
       "      <td>...</td>\n",
       "      <td>...</td>\n",
       "      <td>...</td>\n",
       "      <td>...</td>\n",
       "      <td>...</td>\n",
       "      <td>...</td>\n",
       "      <td>...</td>\n",
       "      <td>...</td>\n",
       "      <td>...</td>\n",
       "    </tr>\n",
       "    <tr>\n",
       "      <th>612</th>\n",
       "      <td>-0.699975</td>\n",
       "      <td>-0.161828</td>\n",
       "      <td>0.040232</td>\n",
       "      <td>-0.422762</td>\n",
       "      <td>0.275215</td>\n",
       "      <td>-0.802577</td>\n",
       "      <td>0.040875</td>\n",
       "      <td>-0.464891</td>\n",
       "      <td>-0.08061</td>\n",
       "      <td>-0.395082</td>\n",
       "      <td>...</td>\n",
       "      <td>-1.17768</td>\n",
       "      <td>0.593022</td>\n",
       "      <td>-0.340465</td>\n",
       "      <td>-0.694915</td>\n",
       "      <td>0.513497</td>\n",
       "      <td>1.304239</td>\n",
       "      <td>fd3dafe738fd</td>\n",
       "      <td>0</td>\n",
       "      <td>1</td>\n",
       "      <td>0</td>\n",
       "    </tr>\n",
       "    <tr>\n",
       "      <th>613</th>\n",
       "      <td>-0.088253</td>\n",
       "      <td>0.852755</td>\n",
       "      <td>-0.261669</td>\n",
       "      <td>0.108831</td>\n",
       "      <td>0.556117</td>\n",
       "      <td>0.170319</td>\n",
       "      <td>-0.082686</td>\n",
       "      <td>0.473063</td>\n",
       "      <td>-0.065661</td>\n",
       "      <td>0.100596</td>\n",
       "      <td>...</td>\n",
       "      <td>1.519617</td>\n",
       "      <td>2.535523</td>\n",
       "      <td>-0.599582</td>\n",
       "      <td>-0.186764</td>\n",
       "      <td>2.048314</td>\n",
       "      <td>-0.813328</td>\n",
       "      <td>fd895603f071</td>\n",
       "      <td>0</td>\n",
       "      <td>0</td>\n",
       "      <td>1</td>\n",
       "    </tr>\n",
       "    <tr>\n",
       "      <th>614</th>\n",
       "      <td>-0.106514</td>\n",
       "      <td>-0.453742</td>\n",
       "      <td>0.09014</td>\n",
       "      <td>0.235206</td>\n",
       "      <td>-0.011673</td>\n",
       "      <td>0.99033</td>\n",
       "      <td>-0.083417</td>\n",
       "      <td>1.113828</td>\n",
       "      <td>-0.104787</td>\n",
       "      <td>0.178374</td>\n",
       "      <td>...</td>\n",
       "      <td>-0.0764</td>\n",
       "      <td>-0.019561</td>\n",
       "      <td>-0.424307</td>\n",
       "      <td>-0.540129</td>\n",
       "      <td>1.903449</td>\n",
       "      <td>1.304239</td>\n",
       "      <td>fd8ef6377f76</td>\n",
       "      <td>0</td>\n",
       "      <td>1</td>\n",
       "      <td>0</td>\n",
       "    </tr>\n",
       "    <tr>\n",
       "      <th>615</th>\n",
       "      <td>-0.243466</td>\n",
       "      <td>-0.973904</td>\n",
       "      <td>-0.261669</td>\n",
       "      <td>-0.219353</td>\n",
       "      <td>-0.189295</td>\n",
       "      <td>0.955584</td>\n",
       "      <td>-0.083417</td>\n",
       "      <td>-0.699741</td>\n",
       "      <td>-0.104787</td>\n",
       "      <td>-0.275772</td>\n",
       "      <td>...</td>\n",
       "      <td>0.387591</td>\n",
       "      <td>-0.41026</td>\n",
       "      <td>-0.6575</td>\n",
       "      <td>-0.646592</td>\n",
       "      <td>-0.370599</td>\n",
       "      <td>-0.809518</td>\n",
       "      <td>fe1942975e40</td>\n",
       "      <td>0</td>\n",
       "      <td>0</td>\n",
       "      <td>1</td>\n",
       "    </tr>\n",
       "    <tr>\n",
       "      <th>616</th>\n",
       "      <td>0.012178</td>\n",
       "      <td>-0.360885</td>\n",
       "      <td>3.350987</td>\n",
       "      <td>1.04831</td>\n",
       "      <td>-0.189295</td>\n",
       "      <td>-0.920714</td>\n",
       "      <td>0.135921</td>\n",
       "      <td>-1.649292</td>\n",
       "      <td>-0.001602</td>\n",
       "      <td>-0.838845</td>\n",
       "      <td>...</td>\n",
       "      <td>-0.706235</td>\n",
       "      <td>-0.41026</td>\n",
       "      <td>-0.404872</td>\n",
       "      <td>1.446419</td>\n",
       "      <td>1.773276</td>\n",
       "      <td>1.304239</td>\n",
       "      <td>ffcca4ded3bb</td>\n",
       "      <td>0</td>\n",
       "      <td>1</td>\n",
       "      <td>0</td>\n",
       "    </tr>\n",
       "  </tbody>\n",
       "</table>\n",
       "<p>617 rows × 59 columns</p>\n",
       "</div>"
      ],
      "text/plain": [
       "           AB        AF        AH        AM        AR        AX        AY  \\\n",
       "0   -0.572153 -0.170975 -0.261669 -0.237889 -0.189295 -1.900558 -0.083417   \n",
       "1   -0.709105 -1.097801 -0.261669 -0.028701 -0.189295 -0.750457 -0.083417   \n",
       "2   -0.015212 -0.377169 -0.261669 -0.094845 -0.189295  0.465662 -0.083417   \n",
       "3   -0.480851  0.138196  0.012347  0.547477 -0.189295  -0.72961 -0.083417   \n",
       "4   -0.206946  0.100517 -0.261669 -0.356885 -0.189295 -0.628845 -0.013229   \n",
       "..        ...       ...       ...       ...       ...       ...       ...   \n",
       "612 -0.699975 -0.161828  0.040232 -0.422762  0.275215 -0.802577  0.040875   \n",
       "613 -0.088253  0.852755 -0.261669  0.108831  0.556117  0.170319 -0.082686   \n",
       "614 -0.106514 -0.453742   0.09014  0.235206 -0.011673   0.99033 -0.083417   \n",
       "615 -0.243466 -0.973904 -0.261669 -0.219353 -0.189295  0.955584 -0.083417   \n",
       "616  0.012178 -0.360885  3.350987   1.04831 -0.189295 -0.920714  0.135921   \n",
       "\n",
       "           AZ        BC       BD   ...        GB        GE        GF  \\\n",
       "0   -0.173502 -0.038354 -0.405383  ... -0.940094  -0.41026 -0.655511   \n",
       "1    0.678919 -0.104787  0.048541  ...  -1.14507  -0.41026  0.687893   \n",
       "2    0.519453 -0.104787 -0.071089  ...  1.637944  -0.29921  -0.05185   \n",
       "3    0.112088 -0.104787 -0.391109  ... -0.219883 -0.342195 -0.650833   \n",
       "4   -1.649292  1.445139  0.125327  ... -0.432313   0.09992 -0.318309   \n",
       "..        ...       ...       ...  ...       ...       ...       ...   \n",
       "612 -0.464891  -0.08061 -0.395082  ...  -1.17768  0.593022 -0.340465   \n",
       "613  0.473063 -0.065661  0.100596  ...  1.519617  2.535523 -0.599582   \n",
       "614  1.113828 -0.104787  0.178374  ...   -0.0764 -0.019561 -0.424307   \n",
       "615 -0.699741 -0.104787 -0.275772  ...  0.387591  -0.41026   -0.6575   \n",
       "616 -1.649292 -0.001602 -0.838845  ... -0.706235  -0.41026 -0.404872   \n",
       "\n",
       "           GH        GI        GL            Id Class EJ_A EJ_B  \n",
       "0   -0.948991  0.531241 -0.815752  000ff2bfdfe9     1    0    1  \n",
       "1   -0.238862 -0.509218  1.304239  007255e47698     0    1    0  \n",
       "2   -0.351743 -0.424754 -0.808323  013f2bd269f5     0    0    1  \n",
       "3    0.858232  1.101332 -0.812311  043ac50845d5     0    0    1  \n",
       "4    1.409422 -0.395228 -0.818054  044fb8a146ec     1    0    1  \n",
       "..        ...       ...       ...           ...   ...  ...  ...  \n",
       "612 -0.694915  0.513497  1.304239  fd3dafe738fd     0    1    0  \n",
       "613 -0.186764  2.048314 -0.813328  fd895603f071     0    0    1  \n",
       "614 -0.540129  1.903449  1.304239  fd8ef6377f76     0    1    0  \n",
       "615 -0.646592 -0.370599 -0.809518  fe1942975e40     0    0    1  \n",
       "616  1.446419  1.773276  1.304239  ffcca4ded3bb     0    1    0  \n",
       "\n",
       "[617 rows x 59 columns]"
      ]
     },
     "execution_count": 16,
     "metadata": {},
     "output_type": "execute_result"
    }
   ],
   "source": [
    "df_transformed"
   ]
  },
  {
   "cell_type": "markdown",
   "id": "110d09b1",
   "metadata": {
    "papermill": {
     "duration": 0.022278,
     "end_time": "2023-07-19T05:18:23.413549",
     "exception": false,
     "start_time": "2023-07-19T05:18:23.391271",
     "status": "completed"
    },
    "tags": []
   },
   "source": [
    "# Applying Class Weights"
   ]
  },
  {
   "cell_type": "code",
   "execution_count": 17,
   "id": "56b19ffd",
   "metadata": {
    "execution": {
     "iopub.execute_input": "2023-07-19T05:18:23.462231Z",
     "iopub.status.busy": "2023-07-19T05:18:23.461739Z",
     "iopub.status.idle": "2023-07-19T05:18:23.471428Z",
     "shell.execute_reply": "2023-07-19T05:18:23.468870Z"
    },
    "papermill": {
     "duration": 0.036623,
     "end_time": "2023-07-19T05:18:23.474475",
     "exception": false,
     "start_time": "2023-07-19T05:18:23.437852",
     "status": "completed"
    },
    "tags": []
   },
   "outputs": [
    {
     "name": "stdout",
     "output_type": "stream",
     "text": [
      "Examples:\n",
      "    Total: 617\n",
      "    Positive: 108 (17.50% of total)\n",
      "\n"
     ]
    }
   ],
   "source": [
    "neg, pos = np.bincount(df['Class'])\n",
    "\n",
    "total = neg + pos\n",
    "print('Examples:\\n    Total: {}\\n    Positive: {} ({:.2f}% of total)\\n'.format(\n",
    "    total, pos, 100 * pos / total))"
   ]
  },
  {
   "cell_type": "code",
   "execution_count": 18,
   "id": "0db4c38a",
   "metadata": {
    "execution": {
     "iopub.execute_input": "2023-07-19T05:18:23.520025Z",
     "iopub.status.busy": "2023-07-19T05:18:23.518812Z",
     "iopub.status.idle": "2023-07-19T05:18:23.529317Z",
     "shell.execute_reply": "2023-07-19T05:18:23.527277Z"
    },
    "papermill": {
     "duration": 0.036229,
     "end_time": "2023-07-19T05:18:23.532206",
     "exception": false,
     "start_time": "2023-07-19T05:18:23.495977",
     "status": "completed"
    },
    "tags": []
   },
   "outputs": [
    {
     "name": "stdout",
     "output_type": "stream",
     "text": [
      "Weight for class 0: 0.61\n",
      "Weight for class 1: 2.86\n"
     ]
    }
   ],
   "source": [
    "# Scaling by total/2 helps keep the loss to a similar magnitude.\n",
    "# The sum of the weights of all examples stays the same.\n",
    "weight_for_0 = (1 / neg) * (total / 2.0)\n",
    "weight_for_1 = (1 / pos) * (total / 2.0)\n",
    "\n",
    "class_weight = {0: weight_for_0, 1: weight_for_1}\n",
    "\n",
    "print('Weight for class 0: {:.2f}'.format(weight_for_0))\n",
    "print('Weight for class 1: {:.2f}'.format(weight_for_1))"
   ]
  },
  {
   "cell_type": "code",
   "execution_count": 19,
   "id": "442a3089",
   "metadata": {
    "execution": {
     "iopub.execute_input": "2023-07-19T05:18:23.577643Z",
     "iopub.status.busy": "2023-07-19T05:18:23.576985Z",
     "iopub.status.idle": "2023-07-19T05:18:23.587939Z",
     "shell.execute_reply": "2023-07-19T05:18:23.586527Z"
    },
    "papermill": {
     "duration": 0.038244,
     "end_time": "2023-07-19T05:18:23.591115",
     "exception": false,
     "start_time": "2023-07-19T05:18:23.552871",
     "status": "completed"
    },
    "tags": []
   },
   "outputs": [],
   "source": [
    "X = df_transformed.loc[:, ~df_transformed.columns.isin(['Id','Class'])].astype('float32')"
   ]
  },
  {
   "cell_type": "code",
   "execution_count": 20,
   "id": "b5f7b86e",
   "metadata": {
    "execution": {
     "iopub.execute_input": "2023-07-19T05:18:23.636170Z",
     "iopub.status.busy": "2023-07-19T05:18:23.635684Z",
     "iopub.status.idle": "2023-07-19T05:18:23.642262Z",
     "shell.execute_reply": "2023-07-19T05:18:23.640757Z"
    },
    "papermill": {
     "duration": 0.033055,
     "end_time": "2023-07-19T05:18:23.645199",
     "exception": false,
     "start_time": "2023-07-19T05:18:23.612144",
     "status": "completed"
    },
    "tags": []
   },
   "outputs": [],
   "source": [
    "y = df_transformed['Class'].astype('int')"
   ]
  },
  {
   "cell_type": "code",
   "execution_count": 21,
   "id": "c898d0d4",
   "metadata": {
    "execution": {
     "iopub.execute_input": "2023-07-19T05:18:23.691517Z",
     "iopub.status.busy": "2023-07-19T05:18:23.691017Z",
     "iopub.status.idle": "2023-07-19T05:18:23.848943Z",
     "shell.execute_reply": "2023-07-19T05:18:23.847317Z"
    },
    "papermill": {
     "duration": 0.184127,
     "end_time": "2023-07-19T05:18:23.852178",
     "exception": false,
     "start_time": "2023-07-19T05:18:23.668051",
     "status": "completed"
    },
    "tags": []
   },
   "outputs": [],
   "source": [
    "from sklearn.model_selection import train_test_split\n",
    "\n",
    "X_train, X_test, y_train, y_test = train_test_split(X.to_numpy(), y.to_numpy(), test_size=0.2, random_state=42)"
   ]
  },
  {
   "cell_type": "code",
   "execution_count": 22,
   "id": "e9b1589e",
   "metadata": {
    "execution": {
     "iopub.execute_input": "2023-07-19T05:18:23.895786Z",
     "iopub.status.busy": "2023-07-19T05:18:23.895332Z",
     "iopub.status.idle": "2023-07-19T05:18:23.904810Z",
     "shell.execute_reply": "2023-07-19T05:18:23.903627Z"
    },
    "papermill": {
     "duration": 0.034532,
     "end_time": "2023-07-19T05:18:23.907439",
     "exception": false,
     "start_time": "2023-07-19T05:18:23.872907",
     "status": "completed"
    },
    "tags": []
   },
   "outputs": [
    {
     "data": {
      "text/plain": [
       "array([[ 3.6368575 ,  0.9210215 , -0.26166895, ..., -0.8272873 ,\n",
       "         0.        ,  1.        ],\n",
       "       [-0.1612948 ,  0.15730457,  0.13247992, ..., -0.8193161 ,\n",
       "         0.        ,  1.        ],\n",
       "       [-0.05173272, -0.48829663, -0.20473862, ..., -0.8208231 ,\n",
       "         0.        ,  1.        ],\n",
       "       ...,\n",
       "       [-0.3712888 , -0.78766143, -0.18067105, ..., -0.5393619 ,\n",
       "         0.        ,  1.        ],\n",
       "       [ 0.45955703, -0.34496126,  0.0478003 , ..., -0.81522423,\n",
       "         0.        ,  1.        ],\n",
       "       [ 0.0121785 ,  0.78320163, -0.26166895, ..., -0.82063705,\n",
       "         0.        ,  1.        ]], dtype=float32)"
      ]
     },
     "execution_count": 22,
     "metadata": {},
     "output_type": "execute_result"
    }
   ],
   "source": [
    "X_train"
   ]
  },
  {
   "cell_type": "markdown",
   "id": "206b5110",
   "metadata": {
    "papermill": {
     "duration": 0.021929,
     "end_time": "2023-07-19T05:18:23.950957",
     "exception": false,
     "start_time": "2023-07-19T05:18:23.929028",
     "status": "completed"
    },
    "tags": []
   },
   "source": [
    "# Random Forest Classifier"
   ]
  },
  {
   "cell_type": "code",
   "execution_count": 23,
   "id": "2e8bba85",
   "metadata": {
    "execution": {
     "iopub.execute_input": "2023-07-19T05:18:23.996753Z",
     "iopub.status.busy": "2023-07-19T05:18:23.995502Z",
     "iopub.status.idle": "2023-07-19T05:18:26.632194Z",
     "shell.execute_reply": "2023-07-19T05:18:26.630827Z"
    },
    "papermill": {
     "duration": 2.663064,
     "end_time": "2023-07-19T05:18:26.635577",
     "exception": false,
     "start_time": "2023-07-19T05:18:23.972513",
     "status": "completed"
    },
    "tags": []
   },
   "outputs": [],
   "source": [
    "from sklearn.ensemble import RandomForestClassifier\n",
    "\n",
    "rnd_clf = RandomForestClassifier(n_estimators=500, max_leaf_nodes=16, n_jobs=-1, random_state=42, class_weight=class_weight)\n",
    "rnd_clf.fit(X_train, y_train)\n",
    "\n",
    "y_pred_clf = rnd_clf.predict(X_test)"
   ]
  },
  {
   "cell_type": "code",
   "execution_count": 24,
   "id": "faf417a7",
   "metadata": {
    "execution": {
     "iopub.execute_input": "2023-07-19T05:18:26.683636Z",
     "iopub.status.busy": "2023-07-19T05:18:26.683184Z",
     "iopub.status.idle": "2023-07-19T05:18:26.692528Z",
     "shell.execute_reply": "2023-07-19T05:18:26.690915Z"
    },
    "papermill": {
     "duration": 0.037928,
     "end_time": "2023-07-19T05:18:26.695567",
     "exception": false,
     "start_time": "2023-07-19T05:18:26.657639",
     "status": "completed"
    },
    "tags": []
   },
   "outputs": [
    {
     "data": {
      "text/plain": [
       "0.9516129032258065"
      ]
     },
     "execution_count": 24,
     "metadata": {},
     "output_type": "execute_result"
    }
   ],
   "source": [
    "from sklearn.metrics import accuracy_score\n",
    "\n",
    "accuracy_score(y_test, y_pred_clf)"
   ]
  },
  {
   "cell_type": "code",
   "execution_count": 25,
   "id": "8d6c4432",
   "metadata": {
    "execution": {
     "iopub.execute_input": "2023-07-19T05:18:26.742864Z",
     "iopub.status.busy": "2023-07-19T05:18:26.742385Z",
     "iopub.status.idle": "2023-07-19T05:18:26.844629Z",
     "shell.execute_reply": "2023-07-19T05:18:26.843047Z"
    },
    "papermill": {
     "duration": 0.130509,
     "end_time": "2023-07-19T05:18:26.848156",
     "exception": false,
     "start_time": "2023-07-19T05:18:26.717647",
     "status": "completed"
    },
    "tags": []
   },
   "outputs": [],
   "source": [
    "scores = []\n",
    "for name, score in zip(X, rnd_clf.feature_importances_):\n",
    "    scores.append([name, score])"
   ]
  },
  {
   "cell_type": "code",
   "execution_count": 26,
   "id": "f1c8fac1",
   "metadata": {
    "execution": {
     "iopub.execute_input": "2023-07-19T05:18:26.892756Z",
     "iopub.status.busy": "2023-07-19T05:18:26.892281Z",
     "iopub.status.idle": "2023-07-19T05:18:26.898594Z",
     "shell.execute_reply": "2023-07-19T05:18:26.897100Z"
    },
    "papermill": {
     "duration": 0.031308,
     "end_time": "2023-07-19T05:18:26.901281",
     "exception": false,
     "start_time": "2023-07-19T05:18:26.869973",
     "status": "completed"
    },
    "tags": []
   },
   "outputs": [],
   "source": [
    "import operator\n",
    "s = sorted(scores, key = operator.itemgetter(1), reverse=True)"
   ]
  },
  {
   "cell_type": "code",
   "execution_count": 27,
   "id": "bebe6527",
   "metadata": {
    "execution": {
     "iopub.execute_input": "2023-07-19T05:18:26.947031Z",
     "iopub.status.busy": "2023-07-19T05:18:26.945969Z",
     "iopub.status.idle": "2023-07-19T05:18:26.957969Z",
     "shell.execute_reply": "2023-07-19T05:18:26.956462Z"
    },
    "papermill": {
     "duration": 0.038198,
     "end_time": "2023-07-19T05:18:26.960927",
     "exception": false,
     "start_time": "2023-07-19T05:18:26.922729",
     "status": "completed"
    },
    "tags": []
   },
   "outputs": [
    {
     "data": {
      "text/plain": [
       "[['DU', 0.09901427666919259],\n",
       " ['DA', 0.06111912980351387],\n",
       " ['BQ', 0.054942571522362205],\n",
       " ['CR', 0.05439525700940861],\n",
       " ['GL', 0.05380885786855198],\n",
       " ['AB', 0.05178612621573154],\n",
       " ['FL', 0.04506869191056975],\n",
       " ['DI', 0.04248522950640258],\n",
       " ['AF', 0.035533088309173406],\n",
       " ['EH', 0.03416188430941849],\n",
       " ['FD ', 0.02718608923950435],\n",
       " ['DE', 0.02380735498528958],\n",
       " ['FR', 0.02283933129078817],\n",
       " ['EE', 0.022215373341208055],\n",
       " ['CC', 0.020085940004953156],\n",
       " ['CD ', 0.019818157584633837],\n",
       " ['EB', 0.01746301039786897],\n",
       " ['DL', 0.01680871176270852],\n",
       " ['BC', 0.016278929502637412],\n",
       " ['BN', 0.015761076975097633],\n",
       " ['BP', 0.014404401093592232],\n",
       " ['FE', 0.014115069017950557],\n",
       " ['FI', 0.01405276070907235],\n",
       " ['DH', 0.013533842139814525],\n",
       " ['CU', 0.01225626960787843],\n",
       " ['AM', 0.012056581504067939],\n",
       " ['GH', 0.010744980421504152],\n",
       " ['DY', 0.010455829955533425],\n",
       " ['AX', 0.009549279626491497],\n",
       " ['GF', 0.008641192819677556],\n",
       " ['DN', 0.008362444321115142],\n",
       " ['EU', 0.00829970003038041],\n",
       " ['CF', 0.008251119519413012],\n",
       " ['CS', 0.00810048688661229],\n",
       " ['CB', 0.007579853734857307],\n",
       " ['AH', 0.007212903299159665],\n",
       " ['FC', 0.006958757968447794],\n",
       " ['GI', 0.006453957119103291],\n",
       " ['CW ', 0.006244790594227962],\n",
       " ['EL', 0.006151091826060186],\n",
       " ['EG', 0.0061174691548007],\n",
       " ['GB', 0.0059487776963518535],\n",
       " ['BD ', 0.0057448651118590915],\n",
       " ['BR', 0.005685308461404954],\n",
       " ['CH', 0.005540238792841184],\n",
       " ['DF', 0.00548318849849916],\n",
       " ['EP', 0.005463021492185726],\n",
       " ['CL', 0.005014047145077122],\n",
       " ['AZ', 0.004794400416258707],\n",
       " ['FS', 0.004101261725352398],\n",
       " ['GE', 0.0039162714680419436],\n",
       " ['AR', 0.0037152222502648945],\n",
       " ['AY', 0.003390427747304997],\n",
       " ['BZ', 0.003267313841318054],\n",
       " ['EJ_A', 0.001550241526253211],\n",
       " ['DV', 0.0015476138269014774],\n",
       " ['EJ_B', 0.0007159304413101423]]"
      ]
     },
     "execution_count": 27,
     "metadata": {},
     "output_type": "execute_result"
    }
   ],
   "source": [
    "s"
   ]
  },
  {
   "cell_type": "markdown",
   "id": "c29a421b",
   "metadata": {
    "papermill": {
     "duration": 0.021595,
     "end_time": "2023-07-19T05:18:27.003692",
     "exception": false,
     "start_time": "2023-07-19T05:18:26.982097",
     "status": "completed"
    },
    "tags": []
   },
   "source": [
    "# AdaBoost Classifier"
   ]
  },
  {
   "cell_type": "code",
   "execution_count": 28,
   "id": "5ebbf04c",
   "metadata": {
    "execution": {
     "iopub.execute_input": "2023-07-19T05:18:27.052209Z",
     "iopub.status.busy": "2023-07-19T05:18:27.051498Z",
     "iopub.status.idle": "2023-07-19T05:18:28.271979Z",
     "shell.execute_reply": "2023-07-19T05:18:28.270453Z"
    },
    "papermill": {
     "duration": 1.248308,
     "end_time": "2023-07-19T05:18:28.275048",
     "exception": false,
     "start_time": "2023-07-19T05:18:27.026740",
     "status": "completed"
    },
    "tags": []
   },
   "outputs": [],
   "source": [
    "from sklearn.ensemble import AdaBoostClassifier\n",
    "from sklearn.tree import DecisionTreeClassifier \n",
    "\n",
    "ada_clf = AdaBoostClassifier(DecisionTreeClassifier(max_depth=1,class_weight=class_weight), n_estimators=200,\n",
    "                            algorithm=\"SAMME.R\", learning_rate=0.5)\n",
    "ada_clf.fit(X_train, y_train)\n",
    "y_pred_clf = ada_clf.predict(X_test)"
   ]
  },
  {
   "cell_type": "code",
   "execution_count": 29,
   "id": "f68369e0",
   "metadata": {
    "execution": {
     "iopub.execute_input": "2023-07-19T05:18:28.320425Z",
     "iopub.status.busy": "2023-07-19T05:18:28.319998Z",
     "iopub.status.idle": "2023-07-19T05:18:28.329998Z",
     "shell.execute_reply": "2023-07-19T05:18:28.328366Z"
    },
    "papermill": {
     "duration": 0.03557,
     "end_time": "2023-07-19T05:18:28.333138",
     "exception": false,
     "start_time": "2023-07-19T05:18:28.297568",
     "status": "completed"
    },
    "tags": []
   },
   "outputs": [
    {
     "data": {
      "text/plain": [
       "0.9354838709677419"
      ]
     },
     "execution_count": 29,
     "metadata": {},
     "output_type": "execute_result"
    }
   ],
   "source": [
    "accuracy_score(y_test, y_pred_clf)"
   ]
  },
  {
   "cell_type": "markdown",
   "id": "72100003",
   "metadata": {
    "papermill": {
     "duration": 0.021107,
     "end_time": "2023-07-19T05:18:28.376560",
     "exception": false,
     "start_time": "2023-07-19T05:18:28.355453",
     "status": "completed"
    },
    "tags": []
   },
   "source": [
    "# Testing Baggins"
   ]
  },
  {
   "cell_type": "code",
   "execution_count": 30,
   "id": "af0b77d4",
   "metadata": {
    "execution": {
     "iopub.execute_input": "2023-07-19T05:18:28.420754Z",
     "iopub.status.busy": "2023-07-19T05:18:28.420312Z",
     "iopub.status.idle": "2023-07-19T05:18:31.626307Z",
     "shell.execute_reply": "2023-07-19T05:18:31.624786Z"
    },
    "papermill": {
     "duration": 3.232423,
     "end_time": "2023-07-19T05:18:31.630256",
     "exception": false,
     "start_time": "2023-07-19T05:18:28.397833",
     "status": "completed"
    },
    "tags": []
   },
   "outputs": [
    {
     "name": "stderr",
     "output_type": "stream",
     "text": [
      "/opt/conda/lib/python3.10/site-packages/scipy/__init__.py:146: UserWarning: A NumPy version >=1.16.5 and <1.23.0 is required for this version of SciPy (detected version 1.23.5\n",
      "  warnings.warn(f\"A NumPy version >={np_minversion} and <{np_maxversion}\"\n",
      "/opt/conda/lib/python3.10/site-packages/scipy/__init__.py:146: UserWarning: A NumPy version >=1.16.5 and <1.23.0 is required for this version of SciPy (detected version 1.23.5\n",
      "  warnings.warn(f\"A NumPy version >={np_minversion} and <{np_maxversion}\"\n",
      "/opt/conda/lib/python3.10/site-packages/scipy/__init__.py:146: UserWarning: A NumPy version >=1.16.5 and <1.23.0 is required for this version of SciPy (detected version 1.23.5\n",
      "  warnings.warn(f\"A NumPy version >={np_minversion} and <{np_maxversion}\"\n",
      "/opt/conda/lib/python3.10/site-packages/scipy/__init__.py:146: UserWarning: A NumPy version >=1.16.5 and <1.23.0 is required for this version of SciPy (detected version 1.23.5\n",
      "  warnings.warn(f\"A NumPy version >={np_minversion} and <{np_maxversion}\"\n"
     ]
    },
    {
     "data": {
      "text/html": [
       "<style>#sk-container-id-1 {color: black;background-color: white;}#sk-container-id-1 pre{padding: 0;}#sk-container-id-1 div.sk-toggleable {background-color: white;}#sk-container-id-1 label.sk-toggleable__label {cursor: pointer;display: block;width: 100%;margin-bottom: 0;padding: 0.3em;box-sizing: border-box;text-align: center;}#sk-container-id-1 label.sk-toggleable__label-arrow:before {content: \"▸\";float: left;margin-right: 0.25em;color: #696969;}#sk-container-id-1 label.sk-toggleable__label-arrow:hover:before {color: black;}#sk-container-id-1 div.sk-estimator:hover label.sk-toggleable__label-arrow:before {color: black;}#sk-container-id-1 div.sk-toggleable__content {max-height: 0;max-width: 0;overflow: hidden;text-align: left;background-color: #f0f8ff;}#sk-container-id-1 div.sk-toggleable__content pre {margin: 0.2em;color: black;border-radius: 0.25em;background-color: #f0f8ff;}#sk-container-id-1 input.sk-toggleable__control:checked~div.sk-toggleable__content {max-height: 200px;max-width: 100%;overflow: auto;}#sk-container-id-1 input.sk-toggleable__control:checked~label.sk-toggleable__label-arrow:before {content: \"▾\";}#sk-container-id-1 div.sk-estimator input.sk-toggleable__control:checked~label.sk-toggleable__label {background-color: #d4ebff;}#sk-container-id-1 div.sk-label input.sk-toggleable__control:checked~label.sk-toggleable__label {background-color: #d4ebff;}#sk-container-id-1 input.sk-hidden--visually {border: 0;clip: rect(1px 1px 1px 1px);clip: rect(1px, 1px, 1px, 1px);height: 1px;margin: -1px;overflow: hidden;padding: 0;position: absolute;width: 1px;}#sk-container-id-1 div.sk-estimator {font-family: monospace;background-color: #f0f8ff;border: 1px dotted black;border-radius: 0.25em;box-sizing: border-box;margin-bottom: 0.5em;}#sk-container-id-1 div.sk-estimator:hover {background-color: #d4ebff;}#sk-container-id-1 div.sk-parallel-item::after {content: \"\";width: 100%;border-bottom: 1px solid gray;flex-grow: 1;}#sk-container-id-1 div.sk-label:hover label.sk-toggleable__label {background-color: #d4ebff;}#sk-container-id-1 div.sk-serial::before {content: \"\";position: absolute;border-left: 1px solid gray;box-sizing: border-box;top: 0;bottom: 0;left: 50%;z-index: 0;}#sk-container-id-1 div.sk-serial {display: flex;flex-direction: column;align-items: center;background-color: white;padding-right: 0.2em;padding-left: 0.2em;position: relative;}#sk-container-id-1 div.sk-item {position: relative;z-index: 1;}#sk-container-id-1 div.sk-parallel {display: flex;align-items: stretch;justify-content: center;background-color: white;position: relative;}#sk-container-id-1 div.sk-item::before, #sk-container-id-1 div.sk-parallel-item::before {content: \"\";position: absolute;border-left: 1px solid gray;box-sizing: border-box;top: 0;bottom: 0;left: 50%;z-index: -1;}#sk-container-id-1 div.sk-parallel-item {display: flex;flex-direction: column;z-index: 1;position: relative;background-color: white;}#sk-container-id-1 div.sk-parallel-item:first-child::after {align-self: flex-end;width: 50%;}#sk-container-id-1 div.sk-parallel-item:last-child::after {align-self: flex-start;width: 50%;}#sk-container-id-1 div.sk-parallel-item:only-child::after {width: 0;}#sk-container-id-1 div.sk-dashed-wrapped {border: 1px dashed gray;margin: 0 0.4em 0.5em 0.4em;box-sizing: border-box;padding-bottom: 0.4em;background-color: white;}#sk-container-id-1 div.sk-label label {font-family: monospace;font-weight: bold;display: inline-block;line-height: 1.2em;}#sk-container-id-1 div.sk-label-container {text-align: center;}#sk-container-id-1 div.sk-container {/* jupyter's `normalize.less` sets `[hidden] { display: none; }` but bootstrap.min.css set `[hidden] { display: none !important; }` so we also need the `!important` here to be able to override the default hidden behavior on the sphinx rendered scikit-learn.org. See: https://github.com/scikit-learn/scikit-learn/issues/21755 */display: inline-block !important;position: relative;}#sk-container-id-1 div.sk-text-repr-fallback {display: none;}</style><div id=\"sk-container-id-1\" class=\"sk-top-container\"><div class=\"sk-text-repr-fallback\"><pre>BaggingClassifier(estimator=DecisionTreeClassifier(class_weight={0: 0.606090373280943,\n",
       "                                                                 1: 2.8564814814814814}),\n",
       "                  max_samples=100, n_estimators=500, n_jobs=-1, oob_score=True)</pre><b>In a Jupyter environment, please rerun this cell to show the HTML representation or trust the notebook. <br />On GitHub, the HTML representation is unable to render, please try loading this page with nbviewer.org.</b></div><div class=\"sk-container\" hidden><div class=\"sk-item sk-dashed-wrapped\"><div class=\"sk-label-container\"><div class=\"sk-label sk-toggleable\"><input class=\"sk-toggleable__control sk-hidden--visually\" id=\"sk-estimator-id-1\" type=\"checkbox\" ><label for=\"sk-estimator-id-1\" class=\"sk-toggleable__label sk-toggleable__label-arrow\">BaggingClassifier</label><div class=\"sk-toggleable__content\"><pre>BaggingClassifier(estimator=DecisionTreeClassifier(class_weight={0: 0.606090373280943,\n",
       "                                                                 1: 2.8564814814814814}),\n",
       "                  max_samples=100, n_estimators=500, n_jobs=-1, oob_score=True)</pre></div></div></div><div class=\"sk-parallel\"><div class=\"sk-parallel-item\"><div class=\"sk-item\"><div class=\"sk-label-container\"><div class=\"sk-label sk-toggleable\"><input class=\"sk-toggleable__control sk-hidden--visually\" id=\"sk-estimator-id-2\" type=\"checkbox\" ><label for=\"sk-estimator-id-2\" class=\"sk-toggleable__label sk-toggleable__label-arrow\">estimator: DecisionTreeClassifier</label><div class=\"sk-toggleable__content\"><pre>DecisionTreeClassifier(class_weight={0: 0.606090373280943,\n",
       "                                     1: 2.8564814814814814})</pre></div></div></div><div class=\"sk-serial\"><div class=\"sk-item\"><div class=\"sk-estimator sk-toggleable\"><input class=\"sk-toggleable__control sk-hidden--visually\" id=\"sk-estimator-id-3\" type=\"checkbox\" ><label for=\"sk-estimator-id-3\" class=\"sk-toggleable__label sk-toggleable__label-arrow\">DecisionTreeClassifier</label><div class=\"sk-toggleable__content\"><pre>DecisionTreeClassifier(class_weight={0: 0.606090373280943,\n",
       "                                     1: 2.8564814814814814})</pre></div></div></div></div></div></div></div></div></div></div>"
      ],
      "text/plain": [
       "BaggingClassifier(estimator=DecisionTreeClassifier(class_weight={0: 0.606090373280943,\n",
       "                                                                 1: 2.8564814814814814}),\n",
       "                  max_samples=100, n_estimators=500, n_jobs=-1, oob_score=True)"
      ]
     },
     "execution_count": 30,
     "metadata": {},
     "output_type": "execute_result"
    }
   ],
   "source": [
    "from sklearn.ensemble import BaggingClassifier\n",
    "\n",
    "bag_clf = BaggingClassifier(DecisionTreeClassifier(class_weight=class_weight), n_estimators=500, max_samples=100, bootstrap=True,\n",
    "                           n_jobs=-1, oob_score=True)\n",
    "bag_clf.fit(X_train, y_train)"
   ]
  },
  {
   "cell_type": "markdown",
   "id": "09f83f49",
   "metadata": {
    "papermill": {
     "duration": 0.023119,
     "end_time": "2023-07-19T05:18:31.685145",
     "exception": false,
     "start_time": "2023-07-19T05:18:31.662026",
     "status": "completed"
    },
    "tags": []
   },
   "source": [
    "# Using Out-of-Bag Evaluation"
   ]
  },
  {
   "cell_type": "code",
   "execution_count": 31,
   "id": "9963155a",
   "metadata": {
    "execution": {
     "iopub.execute_input": "2023-07-19T05:18:31.733119Z",
     "iopub.status.busy": "2023-07-19T05:18:31.731522Z",
     "iopub.status.idle": "2023-07-19T05:18:31.742640Z",
     "shell.execute_reply": "2023-07-19T05:18:31.741431Z"
    },
    "papermill": {
     "duration": 0.038328,
     "end_time": "2023-07-19T05:18:31.745532",
     "exception": false,
     "start_time": "2023-07-19T05:18:31.707204",
     "status": "completed"
    },
    "tags": []
   },
   "outputs": [
    {
     "data": {
      "text/plain": [
       "0.8640973630831643"
      ]
     },
     "execution_count": 31,
     "metadata": {},
     "output_type": "execute_result"
    }
   ],
   "source": [
    "bag_clf.oob_score_"
   ]
  },
  {
   "cell_type": "code",
   "execution_count": 32,
   "id": "80b957cd",
   "metadata": {
    "execution": {
     "iopub.execute_input": "2023-07-19T05:18:31.794013Z",
     "iopub.status.busy": "2023-07-19T05:18:31.793112Z",
     "iopub.status.idle": "2023-07-19T05:18:31.802245Z",
     "shell.execute_reply": "2023-07-19T05:18:31.800959Z"
    },
    "papermill": {
     "duration": 0.036666,
     "end_time": "2023-07-19T05:18:31.805220",
     "exception": false,
     "start_time": "2023-07-19T05:18:31.768554",
     "status": "completed"
    },
    "tags": []
   },
   "outputs": [
    {
     "data": {
      "text/plain": [
       "array([[0.35962877, 0.64037123],\n",
       "       [0.93028846, 0.06971154],\n",
       "       [0.94634146, 0.05365854],\n",
       "       [0.95522388, 0.04477612],\n",
       "       [0.84313725, 0.15686275]])"
      ]
     },
     "execution_count": 32,
     "metadata": {},
     "output_type": "execute_result"
    }
   ],
   "source": [
    "bag_clf.oob_decision_function_[:5]"
   ]
  },
  {
   "cell_type": "markdown",
   "id": "81385be6",
   "metadata": {
    "papermill": {
     "duration": 0.022891,
     "end_time": "2023-07-19T05:18:31.851812",
     "exception": false,
     "start_time": "2023-07-19T05:18:31.828921",
     "status": "completed"
    },
    "tags": []
   },
   "source": [
    "# Random Subspaces Method"
   ]
  },
  {
   "cell_type": "code",
   "execution_count": 33,
   "id": "fd7ff767",
   "metadata": {
    "execution": {
     "iopub.execute_input": "2023-07-19T05:18:31.902409Z",
     "iopub.status.busy": "2023-07-19T05:18:31.901503Z",
     "iopub.status.idle": "2023-07-19T05:18:34.445230Z",
     "shell.execute_reply": "2023-07-19T05:18:34.443778Z"
    },
    "papermill": {
     "duration": 2.573061,
     "end_time": "2023-07-19T05:18:34.448179",
     "exception": false,
     "start_time": "2023-07-19T05:18:31.875118",
     "status": "completed"
    },
    "tags": []
   },
   "outputs": [
    {
     "data": {
      "text/html": [
       "<style>#sk-container-id-2 {color: black;background-color: white;}#sk-container-id-2 pre{padding: 0;}#sk-container-id-2 div.sk-toggleable {background-color: white;}#sk-container-id-2 label.sk-toggleable__label {cursor: pointer;display: block;width: 100%;margin-bottom: 0;padding: 0.3em;box-sizing: border-box;text-align: center;}#sk-container-id-2 label.sk-toggleable__label-arrow:before {content: \"▸\";float: left;margin-right: 0.25em;color: #696969;}#sk-container-id-2 label.sk-toggleable__label-arrow:hover:before {color: black;}#sk-container-id-2 div.sk-estimator:hover label.sk-toggleable__label-arrow:before {color: black;}#sk-container-id-2 div.sk-toggleable__content {max-height: 0;max-width: 0;overflow: hidden;text-align: left;background-color: #f0f8ff;}#sk-container-id-2 div.sk-toggleable__content pre {margin: 0.2em;color: black;border-radius: 0.25em;background-color: #f0f8ff;}#sk-container-id-2 input.sk-toggleable__control:checked~div.sk-toggleable__content {max-height: 200px;max-width: 100%;overflow: auto;}#sk-container-id-2 input.sk-toggleable__control:checked~label.sk-toggleable__label-arrow:before {content: \"▾\";}#sk-container-id-2 div.sk-estimator input.sk-toggleable__control:checked~label.sk-toggleable__label {background-color: #d4ebff;}#sk-container-id-2 div.sk-label input.sk-toggleable__control:checked~label.sk-toggleable__label {background-color: #d4ebff;}#sk-container-id-2 input.sk-hidden--visually {border: 0;clip: rect(1px 1px 1px 1px);clip: rect(1px, 1px, 1px, 1px);height: 1px;margin: -1px;overflow: hidden;padding: 0;position: absolute;width: 1px;}#sk-container-id-2 div.sk-estimator {font-family: monospace;background-color: #f0f8ff;border: 1px dotted black;border-radius: 0.25em;box-sizing: border-box;margin-bottom: 0.5em;}#sk-container-id-2 div.sk-estimator:hover {background-color: #d4ebff;}#sk-container-id-2 div.sk-parallel-item::after {content: \"\";width: 100%;border-bottom: 1px solid gray;flex-grow: 1;}#sk-container-id-2 div.sk-label:hover label.sk-toggleable__label {background-color: #d4ebff;}#sk-container-id-2 div.sk-serial::before {content: \"\";position: absolute;border-left: 1px solid gray;box-sizing: border-box;top: 0;bottom: 0;left: 50%;z-index: 0;}#sk-container-id-2 div.sk-serial {display: flex;flex-direction: column;align-items: center;background-color: white;padding-right: 0.2em;padding-left: 0.2em;position: relative;}#sk-container-id-2 div.sk-item {position: relative;z-index: 1;}#sk-container-id-2 div.sk-parallel {display: flex;align-items: stretch;justify-content: center;background-color: white;position: relative;}#sk-container-id-2 div.sk-item::before, #sk-container-id-2 div.sk-parallel-item::before {content: \"\";position: absolute;border-left: 1px solid gray;box-sizing: border-box;top: 0;bottom: 0;left: 50%;z-index: -1;}#sk-container-id-2 div.sk-parallel-item {display: flex;flex-direction: column;z-index: 1;position: relative;background-color: white;}#sk-container-id-2 div.sk-parallel-item:first-child::after {align-self: flex-end;width: 50%;}#sk-container-id-2 div.sk-parallel-item:last-child::after {align-self: flex-start;width: 50%;}#sk-container-id-2 div.sk-parallel-item:only-child::after {width: 0;}#sk-container-id-2 div.sk-dashed-wrapped {border: 1px dashed gray;margin: 0 0.4em 0.5em 0.4em;box-sizing: border-box;padding-bottom: 0.4em;background-color: white;}#sk-container-id-2 div.sk-label label {font-family: monospace;font-weight: bold;display: inline-block;line-height: 1.2em;}#sk-container-id-2 div.sk-label-container {text-align: center;}#sk-container-id-2 div.sk-container {/* jupyter's `normalize.less` sets `[hidden] { display: none; }` but bootstrap.min.css set `[hidden] { display: none !important; }` so we also need the `!important` here to be able to override the default hidden behavior on the sphinx rendered scikit-learn.org. See: https://github.com/scikit-learn/scikit-learn/issues/21755 */display: inline-block !important;position: relative;}#sk-container-id-2 div.sk-text-repr-fallback {display: none;}</style><div id=\"sk-container-id-2\" class=\"sk-top-container\"><div class=\"sk-text-repr-fallback\"><pre>BaggingClassifier(bootstrap_features=True,\n",
       "                  estimator=DecisionTreeClassifier(class_weight={0: 0.606090373280943,\n",
       "                                                                 1: 2.8564814814814814}),\n",
       "                  n_estimators=500, n_jobs=-1, oob_score=True)</pre><b>In a Jupyter environment, please rerun this cell to show the HTML representation or trust the notebook. <br />On GitHub, the HTML representation is unable to render, please try loading this page with nbviewer.org.</b></div><div class=\"sk-container\" hidden><div class=\"sk-item sk-dashed-wrapped\"><div class=\"sk-label-container\"><div class=\"sk-label sk-toggleable\"><input class=\"sk-toggleable__control sk-hidden--visually\" id=\"sk-estimator-id-4\" type=\"checkbox\" ><label for=\"sk-estimator-id-4\" class=\"sk-toggleable__label sk-toggleable__label-arrow\">BaggingClassifier</label><div class=\"sk-toggleable__content\"><pre>BaggingClassifier(bootstrap_features=True,\n",
       "                  estimator=DecisionTreeClassifier(class_weight={0: 0.606090373280943,\n",
       "                                                                 1: 2.8564814814814814}),\n",
       "                  n_estimators=500, n_jobs=-1, oob_score=True)</pre></div></div></div><div class=\"sk-parallel\"><div class=\"sk-parallel-item\"><div class=\"sk-item\"><div class=\"sk-label-container\"><div class=\"sk-label sk-toggleable\"><input class=\"sk-toggleable__control sk-hidden--visually\" id=\"sk-estimator-id-5\" type=\"checkbox\" ><label for=\"sk-estimator-id-5\" class=\"sk-toggleable__label sk-toggleable__label-arrow\">estimator: DecisionTreeClassifier</label><div class=\"sk-toggleable__content\"><pre>DecisionTreeClassifier(class_weight={0: 0.606090373280943,\n",
       "                                     1: 2.8564814814814814})</pre></div></div></div><div class=\"sk-serial\"><div class=\"sk-item\"><div class=\"sk-estimator sk-toggleable\"><input class=\"sk-toggleable__control sk-hidden--visually\" id=\"sk-estimator-id-6\" type=\"checkbox\" ><label for=\"sk-estimator-id-6\" class=\"sk-toggleable__label sk-toggleable__label-arrow\">DecisionTreeClassifier</label><div class=\"sk-toggleable__content\"><pre>DecisionTreeClassifier(class_weight={0: 0.606090373280943,\n",
       "                                     1: 2.8564814814814814})</pre></div></div></div></div></div></div></div></div></div></div>"
      ],
      "text/plain": [
       "BaggingClassifier(bootstrap_features=True,\n",
       "                  estimator=DecisionTreeClassifier(class_weight={0: 0.606090373280943,\n",
       "                                                                 1: 2.8564814814814814}),\n",
       "                  n_estimators=500, n_jobs=-1, oob_score=True)"
      ]
     },
     "execution_count": 33,
     "metadata": {},
     "output_type": "execute_result"
    }
   ],
   "source": [
    "bag_clf = BaggingClassifier(DecisionTreeClassifier(class_weight=class_weight), n_estimators=500, max_features=1.0, bootstrap_features=True,\n",
    "                           n_jobs=-1, oob_score=True)\n",
    "bag_clf.fit(X_train, y_train)"
   ]
  },
  {
   "cell_type": "code",
   "execution_count": 34,
   "id": "4f4cdc4f",
   "metadata": {
    "execution": {
     "iopub.execute_input": "2023-07-19T05:18:34.497121Z",
     "iopub.status.busy": "2023-07-19T05:18:34.496680Z",
     "iopub.status.idle": "2023-07-19T05:18:34.504879Z",
     "shell.execute_reply": "2023-07-19T05:18:34.503372Z"
    },
    "papermill": {
     "duration": 0.035633,
     "end_time": "2023-07-19T05:18:34.507649",
     "exception": false,
     "start_time": "2023-07-19T05:18:34.472016",
     "status": "completed"
    },
    "tags": []
   },
   "outputs": [
    {
     "data": {
      "text/plain": [
       "0.8924949290060852"
      ]
     },
     "execution_count": 34,
     "metadata": {},
     "output_type": "execute_result"
    }
   ],
   "source": [
    "bag_clf.oob_score_"
   ]
  },
  {
   "cell_type": "markdown",
   "id": "f4772bac",
   "metadata": {
    "papermill": {
     "duration": 0.023422,
     "end_time": "2023-07-19T05:18:34.554247",
     "exception": false,
     "start_time": "2023-07-19T05:18:34.530825",
     "status": "completed"
    },
    "tags": []
   },
   "source": [
    "# Gradient Boost with Early Stopping\n",
    "\n",
    "## Early stopping here is used by training a first GBRT with 120 estimators, and then using MSE to find the optimal number of trees"
   ]
  },
  {
   "cell_type": "code",
   "execution_count": 35,
   "id": "caa63906",
   "metadata": {
    "execution": {
     "iopub.execute_input": "2023-07-19T05:18:34.602216Z",
     "iopub.status.busy": "2023-07-19T05:18:34.601129Z",
     "iopub.status.idle": "2023-07-19T05:18:35.766928Z",
     "shell.execute_reply": "2023-07-19T05:18:35.764837Z"
    },
    "papermill": {
     "duration": 1.193526,
     "end_time": "2023-07-19T05:18:35.770607",
     "exception": false,
     "start_time": "2023-07-19T05:18:34.577081",
     "status": "completed"
    },
    "tags": []
   },
   "outputs": [
    {
     "data": {
      "text/html": [
       "<style>#sk-container-id-3 {color: black;background-color: white;}#sk-container-id-3 pre{padding: 0;}#sk-container-id-3 div.sk-toggleable {background-color: white;}#sk-container-id-3 label.sk-toggleable__label {cursor: pointer;display: block;width: 100%;margin-bottom: 0;padding: 0.3em;box-sizing: border-box;text-align: center;}#sk-container-id-3 label.sk-toggleable__label-arrow:before {content: \"▸\";float: left;margin-right: 0.25em;color: #696969;}#sk-container-id-3 label.sk-toggleable__label-arrow:hover:before {color: black;}#sk-container-id-3 div.sk-estimator:hover label.sk-toggleable__label-arrow:before {color: black;}#sk-container-id-3 div.sk-toggleable__content {max-height: 0;max-width: 0;overflow: hidden;text-align: left;background-color: #f0f8ff;}#sk-container-id-3 div.sk-toggleable__content pre {margin: 0.2em;color: black;border-radius: 0.25em;background-color: #f0f8ff;}#sk-container-id-3 input.sk-toggleable__control:checked~div.sk-toggleable__content {max-height: 200px;max-width: 100%;overflow: auto;}#sk-container-id-3 input.sk-toggleable__control:checked~label.sk-toggleable__label-arrow:before {content: \"▾\";}#sk-container-id-3 div.sk-estimator input.sk-toggleable__control:checked~label.sk-toggleable__label {background-color: #d4ebff;}#sk-container-id-3 div.sk-label input.sk-toggleable__control:checked~label.sk-toggleable__label {background-color: #d4ebff;}#sk-container-id-3 input.sk-hidden--visually {border: 0;clip: rect(1px 1px 1px 1px);clip: rect(1px, 1px, 1px, 1px);height: 1px;margin: -1px;overflow: hidden;padding: 0;position: absolute;width: 1px;}#sk-container-id-3 div.sk-estimator {font-family: monospace;background-color: #f0f8ff;border: 1px dotted black;border-radius: 0.25em;box-sizing: border-box;margin-bottom: 0.5em;}#sk-container-id-3 div.sk-estimator:hover {background-color: #d4ebff;}#sk-container-id-3 div.sk-parallel-item::after {content: \"\";width: 100%;border-bottom: 1px solid gray;flex-grow: 1;}#sk-container-id-3 div.sk-label:hover label.sk-toggleable__label {background-color: #d4ebff;}#sk-container-id-3 div.sk-serial::before {content: \"\";position: absolute;border-left: 1px solid gray;box-sizing: border-box;top: 0;bottom: 0;left: 50%;z-index: 0;}#sk-container-id-3 div.sk-serial {display: flex;flex-direction: column;align-items: center;background-color: white;padding-right: 0.2em;padding-left: 0.2em;position: relative;}#sk-container-id-3 div.sk-item {position: relative;z-index: 1;}#sk-container-id-3 div.sk-parallel {display: flex;align-items: stretch;justify-content: center;background-color: white;position: relative;}#sk-container-id-3 div.sk-item::before, #sk-container-id-3 div.sk-parallel-item::before {content: \"\";position: absolute;border-left: 1px solid gray;box-sizing: border-box;top: 0;bottom: 0;left: 50%;z-index: -1;}#sk-container-id-3 div.sk-parallel-item {display: flex;flex-direction: column;z-index: 1;position: relative;background-color: white;}#sk-container-id-3 div.sk-parallel-item:first-child::after {align-self: flex-end;width: 50%;}#sk-container-id-3 div.sk-parallel-item:last-child::after {align-self: flex-start;width: 50%;}#sk-container-id-3 div.sk-parallel-item:only-child::after {width: 0;}#sk-container-id-3 div.sk-dashed-wrapped {border: 1px dashed gray;margin: 0 0.4em 0.5em 0.4em;box-sizing: border-box;padding-bottom: 0.4em;background-color: white;}#sk-container-id-3 div.sk-label label {font-family: monospace;font-weight: bold;display: inline-block;line-height: 1.2em;}#sk-container-id-3 div.sk-label-container {text-align: center;}#sk-container-id-3 div.sk-container {/* jupyter's `normalize.less` sets `[hidden] { display: none; }` but bootstrap.min.css set `[hidden] { display: none !important; }` so we also need the `!important` here to be able to override the default hidden behavior on the sphinx rendered scikit-learn.org. See: https://github.com/scikit-learn/scikit-learn/issues/21755 */display: inline-block !important;position: relative;}#sk-container-id-3 div.sk-text-repr-fallback {display: none;}</style><div id=\"sk-container-id-3\" class=\"sk-top-container\"><div class=\"sk-text-repr-fallback\"><pre>GradientBoostingClassifier(max_depth=2, n_estimators=78)</pre><b>In a Jupyter environment, please rerun this cell to show the HTML representation or trust the notebook. <br />On GitHub, the HTML representation is unable to render, please try loading this page with nbviewer.org.</b></div><div class=\"sk-container\" hidden><div class=\"sk-item\"><div class=\"sk-estimator sk-toggleable\"><input class=\"sk-toggleable__control sk-hidden--visually\" id=\"sk-estimator-id-7\" type=\"checkbox\" checked><label for=\"sk-estimator-id-7\" class=\"sk-toggleable__label sk-toggleable__label-arrow\">GradientBoostingClassifier</label><div class=\"sk-toggleable__content\"><pre>GradientBoostingClassifier(max_depth=2, n_estimators=78)</pre></div></div></div></div></div>"
      ],
      "text/plain": [
       "GradientBoostingClassifier(max_depth=2, n_estimators=78)"
      ]
     },
     "execution_count": 35,
     "metadata": {},
     "output_type": "execute_result"
    }
   ],
   "source": [
    "from sklearn.ensemble import GradientBoostingClassifier\n",
    "from sklearn.metrics import mean_squared_error\n",
    "\n",
    "gbrt = GradientBoostingClassifier(max_depth=2, n_estimators=120)\n",
    "gbrt.fit(X_train, y_train)\n",
    "\n",
    "errors = [mean_squared_error(y_test, y_pred)\n",
    "         for y_pred in gbrt.staged_predict(X_test)]\n",
    "bst_n_estimators = np.argmin(errors) + 1\n",
    "\n",
    "gbrt_best = GradientBoostingClassifier(max_depth=2, n_estimators=bst_n_estimators)\n",
    "gbrt_best.fit(X_train, y_train)"
   ]
  },
  {
   "cell_type": "code",
   "execution_count": 36,
   "id": "6292dfe1",
   "metadata": {
    "execution": {
     "iopub.execute_input": "2023-07-19T05:18:35.823629Z",
     "iopub.status.busy": "2023-07-19T05:18:35.823188Z",
     "iopub.status.idle": "2023-07-19T05:18:35.834006Z",
     "shell.execute_reply": "2023-07-19T05:18:35.832788Z"
    },
    "papermill": {
     "duration": 0.041315,
     "end_time": "2023-07-19T05:18:35.837097",
     "exception": false,
     "start_time": "2023-07-19T05:18:35.795782",
     "status": "completed"
    },
    "tags": []
   },
   "outputs": [
    {
     "data": {
      "text/plain": [
       "0.9516129032258065"
      ]
     },
     "execution_count": 36,
     "metadata": {},
     "output_type": "execute_result"
    }
   ],
   "source": [
    "y_pred_gbrt_best = gbrt_best.predict(X_test)\n",
    "accuracy_score(y_test, y_pred_gbrt_best)"
   ]
  },
  {
   "cell_type": "markdown",
   "id": "6f5bc07a",
   "metadata": {
    "papermill": {
     "duration": 0.023482,
     "end_time": "2023-07-19T05:18:35.886506",
     "exception": false,
     "start_time": "2023-07-19T05:18:35.863024",
     "status": "completed"
    },
    "tags": []
   },
   "source": [
    "# XGBoost"
   ]
  },
  {
   "cell_type": "code",
   "execution_count": 37,
   "id": "738bcc12",
   "metadata": {
    "execution": {
     "iopub.execute_input": "2023-07-19T05:18:35.936859Z",
     "iopub.status.busy": "2023-07-19T05:18:35.936137Z",
     "iopub.status.idle": "2023-07-19T05:18:36.360214Z",
     "shell.execute_reply": "2023-07-19T05:18:36.359164Z"
    },
    "papermill": {
     "duration": 0.453417,
     "end_time": "2023-07-19T05:18:36.363012",
     "exception": false,
     "start_time": "2023-07-19T05:18:35.909595",
     "status": "completed"
    },
    "tags": []
   },
   "outputs": [
    {
     "data": {
      "text/html": [
       "<style>#sk-container-id-4 {color: black;background-color: white;}#sk-container-id-4 pre{padding: 0;}#sk-container-id-4 div.sk-toggleable {background-color: white;}#sk-container-id-4 label.sk-toggleable__label {cursor: pointer;display: block;width: 100%;margin-bottom: 0;padding: 0.3em;box-sizing: border-box;text-align: center;}#sk-container-id-4 label.sk-toggleable__label-arrow:before {content: \"▸\";float: left;margin-right: 0.25em;color: #696969;}#sk-container-id-4 label.sk-toggleable__label-arrow:hover:before {color: black;}#sk-container-id-4 div.sk-estimator:hover label.sk-toggleable__label-arrow:before {color: black;}#sk-container-id-4 div.sk-toggleable__content {max-height: 0;max-width: 0;overflow: hidden;text-align: left;background-color: #f0f8ff;}#sk-container-id-4 div.sk-toggleable__content pre {margin: 0.2em;color: black;border-radius: 0.25em;background-color: #f0f8ff;}#sk-container-id-4 input.sk-toggleable__control:checked~div.sk-toggleable__content {max-height: 200px;max-width: 100%;overflow: auto;}#sk-container-id-4 input.sk-toggleable__control:checked~label.sk-toggleable__label-arrow:before {content: \"▾\";}#sk-container-id-4 div.sk-estimator input.sk-toggleable__control:checked~label.sk-toggleable__label {background-color: #d4ebff;}#sk-container-id-4 div.sk-label input.sk-toggleable__control:checked~label.sk-toggleable__label {background-color: #d4ebff;}#sk-container-id-4 input.sk-hidden--visually {border: 0;clip: rect(1px 1px 1px 1px);clip: rect(1px, 1px, 1px, 1px);height: 1px;margin: -1px;overflow: hidden;padding: 0;position: absolute;width: 1px;}#sk-container-id-4 div.sk-estimator {font-family: monospace;background-color: #f0f8ff;border: 1px dotted black;border-radius: 0.25em;box-sizing: border-box;margin-bottom: 0.5em;}#sk-container-id-4 div.sk-estimator:hover {background-color: #d4ebff;}#sk-container-id-4 div.sk-parallel-item::after {content: \"\";width: 100%;border-bottom: 1px solid gray;flex-grow: 1;}#sk-container-id-4 div.sk-label:hover label.sk-toggleable__label {background-color: #d4ebff;}#sk-container-id-4 div.sk-serial::before {content: \"\";position: absolute;border-left: 1px solid gray;box-sizing: border-box;top: 0;bottom: 0;left: 50%;z-index: 0;}#sk-container-id-4 div.sk-serial {display: flex;flex-direction: column;align-items: center;background-color: white;padding-right: 0.2em;padding-left: 0.2em;position: relative;}#sk-container-id-4 div.sk-item {position: relative;z-index: 1;}#sk-container-id-4 div.sk-parallel {display: flex;align-items: stretch;justify-content: center;background-color: white;position: relative;}#sk-container-id-4 div.sk-item::before, #sk-container-id-4 div.sk-parallel-item::before {content: \"\";position: absolute;border-left: 1px solid gray;box-sizing: border-box;top: 0;bottom: 0;left: 50%;z-index: -1;}#sk-container-id-4 div.sk-parallel-item {display: flex;flex-direction: column;z-index: 1;position: relative;background-color: white;}#sk-container-id-4 div.sk-parallel-item:first-child::after {align-self: flex-end;width: 50%;}#sk-container-id-4 div.sk-parallel-item:last-child::after {align-self: flex-start;width: 50%;}#sk-container-id-4 div.sk-parallel-item:only-child::after {width: 0;}#sk-container-id-4 div.sk-dashed-wrapped {border: 1px dashed gray;margin: 0 0.4em 0.5em 0.4em;box-sizing: border-box;padding-bottom: 0.4em;background-color: white;}#sk-container-id-4 div.sk-label label {font-family: monospace;font-weight: bold;display: inline-block;line-height: 1.2em;}#sk-container-id-4 div.sk-label-container {text-align: center;}#sk-container-id-4 div.sk-container {/* jupyter's `normalize.less` sets `[hidden] { display: none; }` but bootstrap.min.css set `[hidden] { display: none !important; }` so we also need the `!important` here to be able to override the default hidden behavior on the sphinx rendered scikit-learn.org. See: https://github.com/scikit-learn/scikit-learn/issues/21755 */display: inline-block !important;position: relative;}#sk-container-id-4 div.sk-text-repr-fallback {display: none;}</style><div id=\"sk-container-id-4\" class=\"sk-top-container\"><div class=\"sk-text-repr-fallback\"><pre>XGBClassifier(base_score=None, booster=None, callbacks=None,\n",
       "              colsample_bylevel=None, colsample_bynode=None,\n",
       "              colsample_bytree=None, early_stopping_rounds=None,\n",
       "              enable_categorical=False, eval_metric=None, feature_types=None,\n",
       "              gamma=None, gpu_id=None, grow_policy=None, importance_type=None,\n",
       "              interaction_constraints=None, learning_rate=None, max_bin=None,\n",
       "              max_cat_threshold=None, max_cat_to_onehot=None,\n",
       "              max_delta_step=None, max_depth=None, max_leaves=None,\n",
       "              min_child_weight=None, missing=nan, monotone_constraints=None,\n",
       "              n_estimators=100, n_jobs=None, num_parallel_tree=None,\n",
       "              predictor=None, random_state=None, ...)</pre><b>In a Jupyter environment, please rerun this cell to show the HTML representation or trust the notebook. <br />On GitHub, the HTML representation is unable to render, please try loading this page with nbviewer.org.</b></div><div class=\"sk-container\" hidden><div class=\"sk-item\"><div class=\"sk-estimator sk-toggleable\"><input class=\"sk-toggleable__control sk-hidden--visually\" id=\"sk-estimator-id-8\" type=\"checkbox\" checked><label for=\"sk-estimator-id-8\" class=\"sk-toggleable__label sk-toggleable__label-arrow\">XGBClassifier</label><div class=\"sk-toggleable__content\"><pre>XGBClassifier(base_score=None, booster=None, callbacks=None,\n",
       "              colsample_bylevel=None, colsample_bynode=None,\n",
       "              colsample_bytree=None, early_stopping_rounds=None,\n",
       "              enable_categorical=False, eval_metric=None, feature_types=None,\n",
       "              gamma=None, gpu_id=None, grow_policy=None, importance_type=None,\n",
       "              interaction_constraints=None, learning_rate=None, max_bin=None,\n",
       "              max_cat_threshold=None, max_cat_to_onehot=None,\n",
       "              max_delta_step=None, max_depth=None, max_leaves=None,\n",
       "              min_child_weight=None, missing=nan, monotone_constraints=None,\n",
       "              n_estimators=100, n_jobs=None, num_parallel_tree=None,\n",
       "              predictor=None, random_state=None, ...)</pre></div></div></div></div></div>"
      ],
      "text/plain": [
       "XGBClassifier(base_score=None, booster=None, callbacks=None,\n",
       "              colsample_bylevel=None, colsample_bynode=None,\n",
       "              colsample_bytree=None, early_stopping_rounds=None,\n",
       "              enable_categorical=False, eval_metric=None, feature_types=None,\n",
       "              gamma=None, gpu_id=None, grow_policy=None, importance_type=None,\n",
       "              interaction_constraints=None, learning_rate=None, max_bin=None,\n",
       "              max_cat_threshold=None, max_cat_to_onehot=None,\n",
       "              max_delta_step=None, max_depth=None, max_leaves=None,\n",
       "              min_child_weight=None, missing=nan, monotone_constraints=None,\n",
       "              n_estimators=100, n_jobs=None, num_parallel_tree=None,\n",
       "              predictor=None, random_state=None, ...)"
      ]
     },
     "execution_count": 37,
     "metadata": {},
     "output_type": "execute_result"
    }
   ],
   "source": [
    "import xgboost\n",
    "\n",
    "xgb_clf = xgboost.XGBClassifier()\n",
    "xgb_clf.fit(X_train, y_train)"
   ]
  },
  {
   "cell_type": "code",
   "execution_count": 38,
   "id": "6922bbe2",
   "metadata": {
    "execution": {
     "iopub.execute_input": "2023-07-19T05:18:36.414770Z",
     "iopub.status.busy": "2023-07-19T05:18:36.414317Z",
     "iopub.status.idle": "2023-07-19T05:18:36.452094Z",
     "shell.execute_reply": "2023-07-19T05:18:36.450606Z"
    },
    "papermill": {
     "duration": 0.068949,
     "end_time": "2023-07-19T05:18:36.455209",
     "exception": false,
     "start_time": "2023-07-19T05:18:36.386260",
     "status": "completed"
    },
    "tags": []
   },
   "outputs": [
    {
     "data": {
      "text/plain": [
       "0.967741935483871"
      ]
     },
     "execution_count": 38,
     "metadata": {},
     "output_type": "execute_result"
    }
   ],
   "source": [
    "y_pred_xgb = xgb_clf.predict(X_test)\n",
    "accuracy_score(y_test, y_pred_xgb)"
   ]
  },
  {
   "cell_type": "markdown",
   "id": "49dd079a",
   "metadata": {
    "papermill": {
     "duration": 0.023033,
     "end_time": "2023-07-19T05:18:36.503139",
     "exception": false,
     "start_time": "2023-07-19T05:18:36.480106",
     "status": "completed"
    },
    "tags": []
   },
   "source": [
    "# Using TensorBoard"
   ]
  },
  {
   "cell_type": "code",
   "execution_count": 39,
   "id": "67363b8e",
   "metadata": {
    "execution": {
     "iopub.execute_input": "2023-07-19T05:18:36.556429Z",
     "iopub.status.busy": "2023-07-19T05:18:36.555971Z",
     "iopub.status.idle": "2023-07-19T05:18:36.562723Z",
     "shell.execute_reply": "2023-07-19T05:18:36.561248Z"
    },
    "papermill": {
     "duration": 0.038193,
     "end_time": "2023-07-19T05:18:36.565841",
     "exception": false,
     "start_time": "2023-07-19T05:18:36.527648",
     "status": "completed"
    },
    "tags": []
   },
   "outputs": [],
   "source": [
    "import os\n",
    "root_logdir = os.path.join(os.curdir, \"my_logs\")\n",
    "\n",
    "def get_run_logdir():\n",
    "    import time\n",
    "    run_id = time.strftime(\"run_%Y_%m_%d-%H_%M_%S\")\n",
    "    return os.path.join(root_logdir, run_id)\n",
    "\n",
    "run_logdir = get_run_logdir()"
   ]
  },
  {
   "cell_type": "markdown",
   "id": "d0fa46ee",
   "metadata": {
    "papermill": {
     "duration": 0.023512,
     "end_time": "2023-07-19T05:18:36.612752",
     "exception": false,
     "start_time": "2023-07-19T05:18:36.589240",
     "status": "completed"
    },
    "tags": []
   },
   "source": [
    "# Multi Label Perceptron"
   ]
  },
  {
   "cell_type": "code",
   "execution_count": 40,
   "id": "ab6db7f2",
   "metadata": {
    "execution": {
     "iopub.execute_input": "2023-07-19T05:18:36.665739Z",
     "iopub.status.busy": "2023-07-19T05:18:36.665281Z",
     "iopub.status.idle": "2023-07-19T05:18:49.170997Z",
     "shell.execute_reply": "2023-07-19T05:18:49.168838Z"
    },
    "papermill": {
     "duration": 12.53741,
     "end_time": "2023-07-19T05:18:49.176957",
     "exception": false,
     "start_time": "2023-07-19T05:18:36.639547",
     "status": "completed"
    },
    "tags": []
   },
   "outputs": [
    {
     "name": "stderr",
     "output_type": "stream",
     "text": [
      "/opt/conda/lib/python3.10/site-packages/tensorflow_io/python/ops/__init__.py:98: UserWarning: unable to load libtensorflow_io_plugins.so: unable to open file: libtensorflow_io_plugins.so, from paths: ['/opt/conda/lib/python3.10/site-packages/tensorflow_io/python/ops/libtensorflow_io_plugins.so']\n",
      "caused by: ['/opt/conda/lib/python3.10/site-packages/tensorflow_io/python/ops/libtensorflow_io_plugins.so: undefined symbol: _ZN3tsl6StatusC1EN10tensorflow5error4CodeESt17basic_string_viewIcSt11char_traitsIcEENS_14SourceLocationE']\n",
      "  warnings.warn(f\"unable to load libtensorflow_io_plugins.so: {e}\")\n",
      "/opt/conda/lib/python3.10/site-packages/tensorflow_io/python/ops/__init__.py:104: UserWarning: file system plugins are not loaded: unable to open file: libtensorflow_io.so, from paths: ['/opt/conda/lib/python3.10/site-packages/tensorflow_io/python/ops/libtensorflow_io.so']\n",
      "caused by: ['/opt/conda/lib/python3.10/site-packages/tensorflow_io/python/ops/libtensorflow_io.so: undefined symbol: _ZTVN10tensorflow13GcsFileSystemE']\n",
      "  warnings.warn(f\"file system plugins are not loaded: {e}\")\n"
     ]
    },
    {
     "name": "stdout",
     "output_type": "stream",
     "text": [
      "Model: \"sequential\"\n",
      "_________________________________________________________________\n",
      " Layer (type)                Output Shape              Param #   \n",
      "=================================================================\n",
      " flatten (Flatten)           (None, 57)                0         \n",
      "                                                                 \n",
      " dense (Dense)               (None, 300)               17400     \n",
      "                                                                 \n",
      " dense_1 (Dense)             (None, 100)               30100     \n",
      "                                                                 \n",
      " dense_2 (Dense)             (None, 1)                 101       \n",
      "                                                                 \n",
      "=================================================================\n",
      "Total params: 47,601\n",
      "Trainable params: 47,601\n",
      "Non-trainable params: 0\n",
      "_________________________________________________________________\n"
     ]
    }
   ],
   "source": [
    "import tensorflow as tf\n",
    "from tensorflow import keras\n",
    "\n",
    "model = keras.models.Sequential()\n",
    "model.add(keras.layers.Flatten(input_shape=[57]))\n",
    "model.add(keras.layers.Dense(300, activation=\"relu\"))\n",
    "model.add(keras.layers.Dense(100, activation=\"relu\"))\n",
    "model.add(keras.layers.Dense(1, activation=\"tanh\"))\n",
    "\n",
    "model.summary()"
   ]
  },
  {
   "cell_type": "code",
   "execution_count": 41,
   "id": "0a4190cb",
   "metadata": {
    "execution": {
     "iopub.execute_input": "2023-07-19T05:18:49.236654Z",
     "iopub.status.busy": "2023-07-19T05:18:49.236187Z",
     "iopub.status.idle": "2023-07-19T05:18:56.634368Z",
     "shell.execute_reply": "2023-07-19T05:18:56.633024Z"
    },
    "papermill": {
     "duration": 7.431804,
     "end_time": "2023-07-19T05:18:56.637407",
     "exception": false,
     "start_time": "2023-07-19T05:18:49.205603",
     "status": "completed"
    },
    "tags": []
   },
   "outputs": [
    {
     "name": "stdout",
     "output_type": "stream",
     "text": [
      "Epoch 1/50\n",
      "16/16 [==============================] - 1s 26ms/step - loss: 1.0316 - accuracy: 0.7099 - val_loss: 0.5887 - val_accuracy: 0.7903\n",
      "Epoch 2/50\n",
      "16/16 [==============================] - 0s 7ms/step - loss: 0.5765 - accuracy: 0.7566 - val_loss: 0.4728 - val_accuracy: 0.7742\n",
      "Epoch 3/50\n",
      "16/16 [==============================] - 0s 7ms/step - loss: 0.4546 - accuracy: 0.8560 - val_loss: 0.4364 - val_accuracy: 0.8710\n",
      "Epoch 4/50\n",
      "16/16 [==============================] - 0s 7ms/step - loss: 0.4063 - accuracy: 0.9006 - val_loss: 0.3455 - val_accuracy: 0.8790\n",
      "Epoch 5/50\n",
      "16/16 [==============================] - 0s 7ms/step - loss: 0.3652 - accuracy: 0.9148 - val_loss: 0.3438 - val_accuracy: 0.8710\n",
      "Epoch 6/50\n",
      "16/16 [==============================] - 0s 7ms/step - loss: 0.2817 - accuracy: 0.8966 - val_loss: 0.5173 - val_accuracy: 0.7419\n",
      "Epoch 7/50\n",
      "16/16 [==============================] - 0s 7ms/step - loss: 0.2660 - accuracy: 0.8803 - val_loss: 0.4893 - val_accuracy: 0.9032\n",
      "Epoch 8/50\n",
      "16/16 [==============================] - 0s 7ms/step - loss: 0.2178 - accuracy: 0.9270 - val_loss: 0.4631 - val_accuracy: 0.9032\n",
      "Epoch 9/50\n",
      "16/16 [==============================] - 0s 8ms/step - loss: 0.1978 - accuracy: 0.9473 - val_loss: 0.3752 - val_accuracy: 0.9032\n",
      "Epoch 10/50\n",
      "16/16 [==============================] - 0s 7ms/step - loss: 0.1834 - accuracy: 0.9412 - val_loss: 0.3577 - val_accuracy: 0.9032\n",
      "Epoch 11/50\n",
      "16/16 [==============================] - 0s 7ms/step - loss: 0.1711 - accuracy: 0.9533 - val_loss: 0.3417 - val_accuracy: 0.9113\n",
      "Epoch 12/50\n",
      "16/16 [==============================] - 0s 7ms/step - loss: 0.1606 - accuracy: 0.9635 - val_loss: 0.3424 - val_accuracy: 0.9113\n",
      "Epoch 13/50\n",
      "16/16 [==============================] - 0s 7ms/step - loss: 0.1508 - accuracy: 0.9594 - val_loss: 0.3249 - val_accuracy: 0.9032\n",
      "Epoch 14/50\n",
      "16/16 [==============================] - 0s 8ms/step - loss: 0.1433 - accuracy: 0.9675 - val_loss: 0.3228 - val_accuracy: 0.9113\n",
      "Epoch 15/50\n",
      "16/16 [==============================] - 0s 7ms/step - loss: 0.1354 - accuracy: 0.9696 - val_loss: 0.3269 - val_accuracy: 0.9032\n",
      "Epoch 16/50\n",
      "16/16 [==============================] - 0s 7ms/step - loss: 0.1287 - accuracy: 0.9696 - val_loss: 0.3262 - val_accuracy: 0.9032\n",
      "Epoch 17/50\n",
      "16/16 [==============================] - 0s 7ms/step - loss: 0.1230 - accuracy: 0.9696 - val_loss: 0.3197 - val_accuracy: 0.9032\n",
      "Epoch 18/50\n",
      "16/16 [==============================] - 0s 6ms/step - loss: 0.1162 - accuracy: 0.9696 - val_loss: 0.3187 - val_accuracy: 0.9032\n",
      "Epoch 19/50\n",
      "16/16 [==============================] - 0s 7ms/step - loss: 0.1122 - accuracy: 0.9716 - val_loss: 0.3143 - val_accuracy: 0.9113\n",
      "Epoch 20/50\n",
      "16/16 [==============================] - 0s 8ms/step - loss: 0.1061 - accuracy: 0.9736 - val_loss: 0.3110 - val_accuracy: 0.9113\n",
      "Epoch 21/50\n",
      "16/16 [==============================] - 0s 7ms/step - loss: 0.1025 - accuracy: 0.9757 - val_loss: 0.3102 - val_accuracy: 0.9113\n",
      "Epoch 22/50\n",
      "16/16 [==============================] - 0s 7ms/step - loss: 0.0983 - accuracy: 0.9757 - val_loss: 0.3058 - val_accuracy: 0.9113\n",
      "Epoch 23/50\n",
      "16/16 [==============================] - 0s 7ms/step - loss: 0.0940 - accuracy: 0.9757 - val_loss: 0.3031 - val_accuracy: 0.9113\n",
      "Epoch 24/50\n",
      "16/16 [==============================] - 0s 7ms/step - loss: 0.0897 - accuracy: 0.9757 - val_loss: 0.2986 - val_accuracy: 0.9113\n",
      "Epoch 25/50\n",
      "16/16 [==============================] - 0s 7ms/step - loss: 0.0866 - accuracy: 0.9777 - val_loss: 0.3021 - val_accuracy: 0.9113\n",
      "Epoch 26/50\n",
      "16/16 [==============================] - 0s 8ms/step - loss: 0.0834 - accuracy: 0.9797 - val_loss: 0.2996 - val_accuracy: 0.9113\n",
      "Epoch 27/50\n",
      "16/16 [==============================] - 0s 7ms/step - loss: 0.0799 - accuracy: 0.9797 - val_loss: 0.2940 - val_accuracy: 0.9113\n",
      "Epoch 28/50\n",
      "16/16 [==============================] - 0s 7ms/step - loss: 0.0763 - accuracy: 0.9817 - val_loss: 0.2928 - val_accuracy: 0.9113\n",
      "Epoch 29/50\n",
      "16/16 [==============================] - 0s 7ms/step - loss: 0.0734 - accuracy: 0.9838 - val_loss: 0.2929 - val_accuracy: 0.8952\n",
      "Epoch 30/50\n",
      "16/16 [==============================] - 0s 7ms/step - loss: 0.0704 - accuracy: 0.9838 - val_loss: 0.2904 - val_accuracy: 0.9032\n",
      "Epoch 31/50\n",
      "16/16 [==============================] - 0s 7ms/step - loss: 0.0682 - accuracy: 0.9838 - val_loss: 0.2921 - val_accuracy: 0.8952\n",
      "Epoch 32/50\n",
      "16/16 [==============================] - 0s 7ms/step - loss: 0.0655 - accuracy: 0.9817 - val_loss: 0.2866 - val_accuracy: 0.9032\n",
      "Epoch 33/50\n",
      "16/16 [==============================] - 0s 9ms/step - loss: 0.0634 - accuracy: 0.9838 - val_loss: 0.2851 - val_accuracy: 0.9113\n",
      "Epoch 34/50\n",
      "16/16 [==============================] - 0s 7ms/step - loss: 0.0608 - accuracy: 0.9838 - val_loss: 0.2839 - val_accuracy: 0.9032\n",
      "Epoch 35/50\n",
      "16/16 [==============================] - 0s 7ms/step - loss: 0.0588 - accuracy: 0.9919 - val_loss: 0.2862 - val_accuracy: 0.8952\n",
      "Epoch 36/50\n",
      "16/16 [==============================] - 0s 7ms/step - loss: 0.0569 - accuracy: 0.9858 - val_loss: 0.2824 - val_accuracy: 0.9032\n",
      "Epoch 37/50\n",
      "16/16 [==============================] - 0s 7ms/step - loss: 0.0548 - accuracy: 0.9899 - val_loss: 0.2832 - val_accuracy: 0.9032\n",
      "Epoch 38/50\n",
      "16/16 [==============================] - 0s 7ms/step - loss: 0.0535 - accuracy: 0.9919 - val_loss: 0.2830 - val_accuracy: 0.9032\n",
      "Epoch 39/50\n",
      "16/16 [==============================] - 0s 7ms/step - loss: 0.0515 - accuracy: 0.9919 - val_loss: 0.2855 - val_accuracy: 0.9032\n",
      "Epoch 40/50\n",
      "16/16 [==============================] - 0s 7ms/step - loss: 0.0495 - accuracy: 0.9919 - val_loss: 0.2828 - val_accuracy: 0.9032\n",
      "Epoch 41/50\n",
      "16/16 [==============================] - 0s 7ms/step - loss: 0.0484 - accuracy: 0.9919 - val_loss: 0.2840 - val_accuracy: 0.9032\n",
      "Epoch 42/50\n",
      "16/16 [==============================] - 0s 8ms/step - loss: 0.0469 - accuracy: 0.9939 - val_loss: 0.2859 - val_accuracy: 0.9032\n",
      "Epoch 43/50\n",
      "16/16 [==============================] - 0s 7ms/step - loss: 0.0450 - accuracy: 0.9919 - val_loss: 0.2860 - val_accuracy: 0.9032\n",
      "Epoch 44/50\n",
      "16/16 [==============================] - 0s 7ms/step - loss: 0.0440 - accuracy: 0.9939 - val_loss: 0.2846 - val_accuracy: 0.9032\n",
      "Epoch 45/50\n",
      "16/16 [==============================] - 0s 8ms/step - loss: 0.0425 - accuracy: 0.9939 - val_loss: 0.2847 - val_accuracy: 0.9032\n",
      "Epoch 46/50\n",
      "16/16 [==============================] - 0s 7ms/step - loss: 0.0412 - accuracy: 0.9939 - val_loss: 0.2874 - val_accuracy: 0.9032\n",
      "Epoch 47/50\n",
      "16/16 [==============================] - 0s 7ms/step - loss: 0.0398 - accuracy: 0.9959 - val_loss: 0.2858 - val_accuracy: 0.9032\n",
      "Epoch 48/50\n",
      "16/16 [==============================] - 0s 6ms/step - loss: 0.0385 - accuracy: 0.9959 - val_loss: 0.2849 - val_accuracy: 0.9032\n",
      "Epoch 49/50\n",
      "16/16 [==============================] - 0s 7ms/step - loss: 0.0376 - accuracy: 0.9959 - val_loss: 0.2861 - val_accuracy: 0.9032\n",
      "Epoch 50/50\n",
      "16/16 [==============================] - 0s 7ms/step - loss: 0.0363 - accuracy: 0.9959 - val_loss: 0.2877 - val_accuracy: 0.8952\n"
     ]
    }
   ],
   "source": [
    "model.compile(loss='binary_crossentropy',\n",
    "             optimizer='sgd',\n",
    "             metrics=[\"accuracy\"])\n",
    "tensorboard_cb = keras.callbacks.TensorBoard(run_logdir)\n",
    "history = model.fit(X_train, y_train, epochs=50,\n",
    "                   validation_data=(X_test, y_test),class_weight=class_weight,\n",
    "                   callbacks=[tensorboard_cb])"
   ]
  },
  {
   "cell_type": "code",
   "execution_count": 42,
   "id": "ba632c18",
   "metadata": {
    "execution": {
     "iopub.execute_input": "2023-07-19T05:18:56.732092Z",
     "iopub.status.busy": "2023-07-19T05:18:56.730954Z",
     "iopub.status.idle": "2023-07-19T05:18:56.832991Z",
     "shell.execute_reply": "2023-07-19T05:18:56.830823Z"
    },
    "papermill": {
     "duration": 0.15422,
     "end_time": "2023-07-19T05:18:56.837070",
     "exception": false,
     "start_time": "2023-07-19T05:18:56.682850",
     "status": "completed"
    },
    "tags": []
   },
   "outputs": [
    {
     "name": "stdout",
     "output_type": "stream",
     "text": [
      "4/4 [==============================] - 0s 3ms/step - loss: 0.2877 - accuracy: 0.8952\n"
     ]
    },
    {
     "data": {
      "text/plain": [
       "[0.2876540422439575, 0.8951612710952759]"
      ]
     },
     "execution_count": 42,
     "metadata": {},
     "output_type": "execute_result"
    }
   ],
   "source": [
    "model.evaluate(X_test, y_test)"
   ]
  },
  {
   "cell_type": "markdown",
   "id": "e2a76b50",
   "metadata": {
    "papermill": {
     "duration": 0.044841,
     "end_time": "2023-07-19T05:18:56.926829",
     "exception": false,
     "start_time": "2023-07-19T05:18:56.881988",
     "status": "completed"
    },
    "tags": []
   },
   "source": [
    "# Wide DNN"
   ]
  },
  {
   "cell_type": "code",
   "execution_count": 43,
   "id": "93d6423d",
   "metadata": {
    "execution": {
     "iopub.execute_input": "2023-07-19T05:18:57.018097Z",
     "iopub.status.busy": "2023-07-19T05:18:57.017652Z",
     "iopub.status.idle": "2023-07-19T05:18:57.087962Z",
     "shell.execute_reply": "2023-07-19T05:18:57.086657Z"
    },
    "papermill": {
     "duration": 0.120969,
     "end_time": "2023-07-19T05:18:57.092024",
     "exception": false,
     "start_time": "2023-07-19T05:18:56.971055",
     "status": "completed"
    },
    "tags": []
   },
   "outputs": [],
   "source": [
    "input_ = keras.layers.Input(shape=X_train.shape[1:])\n",
    "hidden1 = keras.layers.Dense(30, activation=\"relu\")(input_)\n",
    "hidden2 = keras.layers.Dense(30, activation=\"relu\")(hidden1)\n",
    "concat = keras.layers.Concatenate()([input_, hidden2])\n",
    "output = keras.layers.Dense(1)(concat)\n",
    "model = keras.Model(inputs=[input_], outputs=[output])"
   ]
  },
  {
   "cell_type": "code",
   "execution_count": 44,
   "id": "00d85987",
   "metadata": {
    "execution": {
     "iopub.execute_input": "2023-07-19T05:18:57.185408Z",
     "iopub.status.busy": "2023-07-19T05:18:57.184265Z",
     "iopub.status.idle": "2023-07-19T05:19:03.102509Z",
     "shell.execute_reply": "2023-07-19T05:19:03.101390Z"
    },
    "papermill": {
     "duration": 5.968997,
     "end_time": "2023-07-19T05:19:03.105640",
     "exception": false,
     "start_time": "2023-07-19T05:18:57.136643",
     "status": "completed"
    },
    "tags": []
   },
   "outputs": [
    {
     "name": "stdout",
     "output_type": "stream",
     "text": [
      "Epoch 1/30\n",
      "16/16 [==============================] - 1s 20ms/step - loss: 3.6247 - accuracy: 0.5720 - val_loss: 4.4928 - val_accuracy: 0.5323\n",
      "Epoch 2/30\n",
      "16/16 [==============================] - 0s 7ms/step - loss: 3.1084 - accuracy: 0.6450 - val_loss: 3.5774 - val_accuracy: 0.5806\n",
      "Epoch 3/30\n",
      "16/16 [==============================] - 0s 7ms/step - loss: 2.2873 - accuracy: 0.7039 - val_loss: 1.9292 - val_accuracy: 0.7097\n",
      "Epoch 4/30\n",
      "16/16 [==============================] - 0s 7ms/step - loss: 2.0427 - accuracy: 0.7404 - val_loss: 1.9682 - val_accuracy: 0.7500\n",
      "Epoch 5/30\n",
      "16/16 [==============================] - 0s 7ms/step - loss: 1.5104 - accuracy: 0.7830 - val_loss: 1.6758 - val_accuracy: 0.7984\n",
      "Epoch 6/30\n",
      "16/16 [==============================] - 0s 7ms/step - loss: 1.2078 - accuracy: 0.8418 - val_loss: 3.2657 - val_accuracy: 0.6371\n",
      "Epoch 7/30\n",
      "16/16 [==============================] - 0s 6ms/step - loss: 2.0782 - accuracy: 0.7363 - val_loss: 2.7040 - val_accuracy: 0.7177\n",
      "Epoch 8/30\n",
      "16/16 [==============================] - 0s 7ms/step - loss: 1.3857 - accuracy: 0.8093 - val_loss: 2.1212 - val_accuracy: 0.7984\n",
      "Epoch 9/30\n",
      "16/16 [==============================] - 0s 7ms/step - loss: 1.4365 - accuracy: 0.8377 - val_loss: 1.9656 - val_accuracy: 0.7903\n",
      "Epoch 10/30\n",
      "16/16 [==============================] - 0s 7ms/step - loss: 1.2392 - accuracy: 0.8540 - val_loss: 2.0410 - val_accuracy: 0.7903\n",
      "Epoch 11/30\n",
      "16/16 [==============================] - 0s 8ms/step - loss: 1.0541 - accuracy: 0.8499 - val_loss: 1.9004 - val_accuracy: 0.7984\n",
      "Epoch 12/30\n",
      "16/16 [==============================] - 0s 7ms/step - loss: 0.8801 - accuracy: 0.8682 - val_loss: 1.8831 - val_accuracy: 0.8145\n",
      "Epoch 13/30\n",
      "16/16 [==============================] - 0s 6ms/step - loss: 0.8532 - accuracy: 0.8844 - val_loss: 1.8670 - val_accuracy: 0.8145\n",
      "Epoch 14/30\n",
      "16/16 [==============================] - 0s 7ms/step - loss: 0.8259 - accuracy: 0.8884 - val_loss: 1.8577 - val_accuracy: 0.8468\n",
      "Epoch 15/30\n",
      "16/16 [==============================] - 0s 8ms/step - loss: 0.8148 - accuracy: 0.8844 - val_loss: 1.7486 - val_accuracy: 0.8468\n",
      "Epoch 16/30\n",
      "16/16 [==============================] - 0s 7ms/step - loss: 0.7925 - accuracy: 0.8844 - val_loss: 1.7359 - val_accuracy: 0.8387\n",
      "Epoch 17/30\n",
      "16/16 [==============================] - 0s 6ms/step - loss: 0.7785 - accuracy: 0.8864 - val_loss: 1.5229 - val_accuracy: 0.8387\n",
      "Epoch 18/30\n",
      "16/16 [==============================] - 0s 7ms/step - loss: 0.7622 - accuracy: 0.8905 - val_loss: 1.5053 - val_accuracy: 0.8387\n",
      "Epoch 19/30\n",
      "16/16 [==============================] - 0s 7ms/step - loss: 0.8252 - accuracy: 0.8945 - val_loss: 1.9866 - val_accuracy: 0.8387\n",
      "Epoch 20/30\n",
      "16/16 [==============================] - 0s 6ms/step - loss: 0.9364 - accuracy: 0.9026 - val_loss: 1.7395 - val_accuracy: 0.8226\n",
      "Epoch 21/30\n",
      "16/16 [==============================] - 0s 7ms/step - loss: 0.7280 - accuracy: 0.8945 - val_loss: 1.6519 - val_accuracy: 0.8387\n",
      "Epoch 22/30\n",
      "16/16 [==============================] - 0s 7ms/step - loss: 0.7054 - accuracy: 0.9026 - val_loss: 1.5132 - val_accuracy: 0.8468\n",
      "Epoch 23/30\n",
      "16/16 [==============================] - 0s 6ms/step - loss: 0.6599 - accuracy: 0.9108 - val_loss: 1.4873 - val_accuracy: 0.8306\n",
      "Epoch 24/30\n",
      "16/16 [==============================] - 0s 6ms/step - loss: 0.6359 - accuracy: 0.9229 - val_loss: 1.4749 - val_accuracy: 0.8306\n",
      "Epoch 25/30\n",
      "16/16 [==============================] - 0s 6ms/step - loss: 0.6321 - accuracy: 0.9249 - val_loss: 1.4747 - val_accuracy: 0.8306\n",
      "Epoch 26/30\n",
      "16/16 [==============================] - 0s 7ms/step - loss: 1.2006 - accuracy: 0.7789 - val_loss: 1.5234 - val_accuracy: 0.8145\n",
      "Epoch 27/30\n",
      "16/16 [==============================] - 0s 6ms/step - loss: 0.9103 - accuracy: 0.8600 - val_loss: 1.4755 - val_accuracy: 0.8629\n",
      "Epoch 28/30\n",
      "16/16 [==============================] - 0s 7ms/step - loss: 0.9809 - accuracy: 0.8824 - val_loss: 1.4832 - val_accuracy: 0.8468\n",
      "Epoch 29/30\n",
      "16/16 [==============================] - 0s 7ms/step - loss: 0.9017 - accuracy: 0.9087 - val_loss: 1.3775 - val_accuracy: 0.8629\n",
      "Epoch 30/30\n",
      "16/16 [==============================] - 0s 7ms/step - loss: 0.7872 - accuracy: 0.9067 - val_loss: 1.4749 - val_accuracy: 0.8468\n"
     ]
    }
   ],
   "source": [
    "model.compile(loss='binary_crossentropy',\n",
    "             optimizer='sgd',\n",
    "             metrics=[\"accuracy\"])\n",
    "tensorboard_cb = keras.callbacks.TensorBoard(run_logdir)\n",
    "history = model.fit(X_train, y_train, epochs=30,\n",
    "                   validation_data=(X_test, y_test),class_weight=class_weight,\n",
    "                   callbacks=[tensorboard_cb])"
   ]
  },
  {
   "cell_type": "code",
   "execution_count": null,
   "id": "1728b28b",
   "metadata": {
    "papermill": {
     "duration": 0.057166,
     "end_time": "2023-07-19T05:19:03.220250",
     "exception": false,
     "start_time": "2023-07-19T05:19:03.163084",
     "status": "completed"
    },
    "tags": []
   },
   "outputs": [],
   "source": []
  }
 ],
 "metadata": {
  "kernelspec": {
   "display_name": "Python 3",
   "language": "python",
   "name": "python3"
  },
  "language_info": {
   "codemirror_mode": {
    "name": "ipython",
    "version": 3
   },
   "file_extension": ".py",
   "mimetype": "text/x-python",
   "name": "python",
   "nbconvert_exporter": "python",
   "pygments_lexer": "ipython3",
   "version": "3.10.12"
  },
  "papermill": {
   "default_parameters": {},
   "duration": 63.425184,
   "end_time": "2023-07-19T05:19:05.902596",
   "environment_variables": {},
   "exception": null,
   "input_path": "__notebook__.ipynb",
   "output_path": "__notebook__.ipynb",
   "parameters": {},
   "start_time": "2023-07-19T05:18:02.477412",
   "version": "2.4.0"
  }
 },
 "nbformat": 4,
 "nbformat_minor": 5
}
